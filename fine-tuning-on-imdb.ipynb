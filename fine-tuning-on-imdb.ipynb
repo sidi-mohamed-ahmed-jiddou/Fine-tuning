{
 "cells": [
  {
   "cell_type": "code",
   "execution_count": 1,
   "id": "0a9889c0",
   "metadata": {
    "_cell_guid": "b1076dfc-b9ad-4769-8c92-a6c4dae69d19",
    "_uuid": "8f2839f25d086af736a60e9eeb907d3b93b6e0e5",
    "execution": {
     "iopub.execute_input": "2025-04-01T13:53:30.377623Z",
     "iopub.status.busy": "2025-04-01T13:53:30.377282Z",
     "iopub.status.idle": "2025-04-01T13:53:31.096430Z",
     "shell.execute_reply": "2025-04-01T13:53:31.095501Z"
    },
    "papermill": {
     "duration": 0.731878,
     "end_time": "2025-04-01T13:53:31.098004",
     "exception": false,
     "start_time": "2025-04-01T13:53:30.366126",
     "status": "completed"
    },
    "tags": []
   },
   "outputs": [
    {
     "name": "stdout",
     "output_type": "stream",
     "text": [
      "/kaggle/input/imdb-dataset/IMDB-Dataset.csv\n"
     ]
    }
   ],
   "source": [
    "# This Python 3 environment comes with many helpful analytics libraries installed\n",
    "# It is defined by the kaggle/python Docker image: https://github.com/kaggle/docker-python\n",
    "# For example, here's several helpful packages to load\n",
    "\n",
    "import numpy as np # linear algebra\n",
    "import pandas as pd # data processing, CSV file I/O (e.g. pd.read_csv)\n",
    "\n",
    "# Input data files are available in the read-only \"../input/\" directory\n",
    "# For example, running this (by clicking run or pressing Shift+Enter) will list all files under the input directory\n",
    "\n",
    "import os\n",
    "for dirname, _, filenames in os.walk('/kaggle/input'):\n",
    "    for filename in filenames:\n",
    "        print(os.path.join(dirname, filename))\n",
    "\n",
    "# You can write up to 20GB to the current directory (/kaggle/working/) that gets preserved as output when you create a version using \"Save & Run All\" \n",
    "# You can also write temporary files to /kaggle/temp/, but they won't be saved outside of the current session"
   ]
  },
  {
   "cell_type": "code",
   "execution_count": 2,
   "id": "0b136e0a",
   "metadata": {
    "execution": {
     "iopub.execute_input": "2025-04-01T13:53:31.115581Z",
     "iopub.status.busy": "2025-04-01T13:53:31.115172Z",
     "iopub.status.idle": "2025-04-01T13:53:35.834506Z",
     "shell.execute_reply": "2025-04-01T13:53:35.833336Z"
    },
    "papermill": {
     "duration": 4.729569,
     "end_time": "2025-04-01T13:53:35.836214",
     "exception": false,
     "start_time": "2025-04-01T13:53:31.106645",
     "status": "completed"
    },
    "tags": []
   },
   "outputs": [
    {
     "name": "stdout",
     "output_type": "stream",
     "text": [
      "Collecting evaluate\r\n",
      "  Downloading evaluate-0.4.3-py3-none-any.whl.metadata (9.2 kB)\r\n",
      "Requirement already satisfied: datasets>=2.0.0 in /usr/local/lib/python3.10/dist-packages (from evaluate) (3.3.1)\r\n",
      "Requirement already satisfied: numpy>=1.17 in /usr/local/lib/python3.10/dist-packages (from evaluate) (1.26.4)\r\n",
      "Requirement already satisfied: dill in /usr/local/lib/python3.10/dist-packages (from evaluate) (0.3.8)\r\n",
      "Requirement already satisfied: pandas in /usr/local/lib/python3.10/dist-packages (from evaluate) (2.2.3)\r\n",
      "Requirement already satisfied: requests>=2.19.0 in /usr/local/lib/python3.10/dist-packages (from evaluate) (2.32.3)\r\n",
      "Requirement already satisfied: tqdm>=4.62.1 in /usr/local/lib/python3.10/dist-packages (from evaluate) (4.67.1)\r\n",
      "Requirement already satisfied: xxhash in /usr/local/lib/python3.10/dist-packages (from evaluate) (3.5.0)\r\n",
      "Requirement already satisfied: multiprocess in /usr/local/lib/python3.10/dist-packages (from evaluate) (0.70.16)\r\n",
      "Requirement already satisfied: fsspec>=2021.05.0 in /usr/local/lib/python3.10/dist-packages (from fsspec[http]>=2021.05.0->evaluate) (2024.12.0)\r\n",
      "Requirement already satisfied: huggingface-hub>=0.7.0 in /usr/local/lib/python3.10/dist-packages (from evaluate) (0.29.0)\r\n",
      "Requirement already satisfied: packaging in /usr/local/lib/python3.10/dist-packages (from evaluate) (24.2)\r\n",
      "Requirement already satisfied: filelock in /usr/local/lib/python3.10/dist-packages (from datasets>=2.0.0->evaluate) (3.17.0)\r\n",
      "Requirement already satisfied: pyarrow>=15.0.0 in /usr/local/lib/python3.10/dist-packages (from datasets>=2.0.0->evaluate) (19.0.1)\r\n",
      "Requirement already satisfied: aiohttp in /usr/local/lib/python3.10/dist-packages (from datasets>=2.0.0->evaluate) (3.11.12)\r\n",
      "Requirement already satisfied: pyyaml>=5.1 in /usr/local/lib/python3.10/dist-packages (from datasets>=2.0.0->evaluate) (6.0.2)\r\n",
      "Requirement already satisfied: typing-extensions>=3.7.4.3 in /usr/local/lib/python3.10/dist-packages (from huggingface-hub>=0.7.0->evaluate) (4.12.2)\r\n",
      "Requirement already satisfied: mkl_fft in /usr/local/lib/python3.10/dist-packages (from numpy>=1.17->evaluate) (1.3.8)\r\n",
      "Requirement already satisfied: mkl_random in /usr/local/lib/python3.10/dist-packages (from numpy>=1.17->evaluate) (1.2.4)\r\n",
      "Requirement already satisfied: mkl_umath in /usr/local/lib/python3.10/dist-packages (from numpy>=1.17->evaluate) (0.1.1)\r\n",
      "Requirement already satisfied: mkl in /usr/local/lib/python3.10/dist-packages (from numpy>=1.17->evaluate) (2025.0.1)\r\n",
      "Requirement already satisfied: tbb4py in /usr/local/lib/python3.10/dist-packages (from numpy>=1.17->evaluate) (2022.0.0)\r\n",
      "Requirement already satisfied: mkl-service in /usr/local/lib/python3.10/dist-packages (from numpy>=1.17->evaluate) (2.4.1)\r\n",
      "Requirement already satisfied: charset-normalizer<4,>=2 in /usr/local/lib/python3.10/dist-packages (from requests>=2.19.0->evaluate) (3.4.1)\r\n",
      "Requirement already satisfied: idna<4,>=2.5 in /usr/local/lib/python3.10/dist-packages (from requests>=2.19.0->evaluate) (3.10)\r\n",
      "Requirement already satisfied: urllib3<3,>=1.21.1 in /usr/local/lib/python3.10/dist-packages (from requests>=2.19.0->evaluate) (2.3.0)\r\n",
      "Requirement already satisfied: certifi>=2017.4.17 in /usr/local/lib/python3.10/dist-packages (from requests>=2.19.0->evaluate) (2025.1.31)\r\n",
      "Requirement already satisfied: python-dateutil>=2.8.2 in /usr/local/lib/python3.10/dist-packages (from pandas->evaluate) (2.9.0.post0)\r\n",
      "Requirement already satisfied: pytz>=2020.1 in /usr/local/lib/python3.10/dist-packages (from pandas->evaluate) (2025.1)\r\n",
      "Requirement already satisfied: tzdata>=2022.7 in /usr/local/lib/python3.10/dist-packages (from pandas->evaluate) (2025.1)\r\n",
      "Requirement already satisfied: aiohappyeyeballs>=2.3.0 in /usr/local/lib/python3.10/dist-packages (from aiohttp->datasets>=2.0.0->evaluate) (2.4.6)\r\n",
      "Requirement already satisfied: aiosignal>=1.1.2 in /usr/local/lib/python3.10/dist-packages (from aiohttp->datasets>=2.0.0->evaluate) (1.3.2)\r\n",
      "Requirement already satisfied: async-timeout<6.0,>=4.0 in /usr/local/lib/python3.10/dist-packages (from aiohttp->datasets>=2.0.0->evaluate) (5.0.1)\r\n",
      "Requirement already satisfied: attrs>=17.3.0 in /usr/local/lib/python3.10/dist-packages (from aiohttp->datasets>=2.0.0->evaluate) (25.1.0)\r\n",
      "Requirement already satisfied: frozenlist>=1.1.1 in /usr/local/lib/python3.10/dist-packages (from aiohttp->datasets>=2.0.0->evaluate) (1.5.0)\r\n",
      "Requirement already satisfied: multidict<7.0,>=4.5 in /usr/local/lib/python3.10/dist-packages (from aiohttp->datasets>=2.0.0->evaluate) (6.1.0)\r\n",
      "Requirement already satisfied: propcache>=0.2.0 in /usr/local/lib/python3.10/dist-packages (from aiohttp->datasets>=2.0.0->evaluate) (0.2.1)\r\n",
      "Requirement already satisfied: yarl<2.0,>=1.17.0 in /usr/local/lib/python3.10/dist-packages (from aiohttp->datasets>=2.0.0->evaluate) (1.18.3)\r\n",
      "Requirement already satisfied: six>=1.5 in /usr/local/lib/python3.10/dist-packages (from python-dateutil>=2.8.2->pandas->evaluate) (1.17.0)\r\n",
      "Requirement already satisfied: intel-openmp>=2024 in /usr/local/lib/python3.10/dist-packages (from mkl->numpy>=1.17->evaluate) (2024.2.0)\r\n",
      "Requirement already satisfied: tbb==2022.* in /usr/local/lib/python3.10/dist-packages (from mkl->numpy>=1.17->evaluate) (2022.0.0)\r\n",
      "Requirement already satisfied: tcmlib==1.* in /usr/local/lib/python3.10/dist-packages (from tbb==2022.*->mkl->numpy>=1.17->evaluate) (1.2.0)\r\n",
      "Requirement already satisfied: intel-cmplr-lib-rt in /usr/local/lib/python3.10/dist-packages (from mkl_umath->numpy>=1.17->evaluate) (2024.2.0)\r\n",
      "Requirement already satisfied: intel-cmplr-lib-ur==2024.2.0 in /usr/local/lib/python3.10/dist-packages (from intel-openmp>=2024->mkl->numpy>=1.17->evaluate) (2024.2.0)\r\n",
      "Downloading evaluate-0.4.3-py3-none-any.whl (84 kB)\r\n",
      "\u001b[2K   \u001b[90m━━━━━━━━━━━━━━━━━━━━━━━━━━━━━━━━━━━━━━━━\u001b[0m \u001b[32m84.0/84.0 kB\u001b[0m \u001b[31m3.1 MB/s\u001b[0m eta \u001b[36m0:00:00\u001b[0m\r\n",
      "\u001b[?25hInstalling collected packages: evaluate\r\n",
      "Successfully installed evaluate-0.4.3\r\n"
     ]
    }
   ],
   "source": [
    "!pip install evaluate"
   ]
  },
  {
   "cell_type": "markdown",
   "id": "c7257ba3",
   "metadata": {
    "papermill": {
     "duration": 0.008267,
     "end_time": "2025-04-01T13:53:35.853342",
     "exception": false,
     "start_time": "2025-04-01T13:53:35.845075",
     "status": "completed"
    },
    "tags": []
   },
   "source": [
    "# **Importation des Bibliothèques**\n",
    "\n",
    "Importation des bibliothèques nécessaires pour le traitement des données et l'entraînement du modèle."
   ]
  },
  {
   "cell_type": "code",
   "execution_count": 3,
   "id": "95a24d4b",
   "metadata": {
    "execution": {
     "iopub.execute_input": "2025-04-01T13:53:35.871521Z",
     "iopub.status.busy": "2025-04-01T13:53:35.871218Z",
     "iopub.status.idle": "2025-04-01T13:53:58.991786Z",
     "shell.execute_reply": "2025-04-01T13:53:58.991054Z"
    },
    "papermill": {
     "duration": 23.131598,
     "end_time": "2025-04-01T13:53:58.993444",
     "exception": false,
     "start_time": "2025-04-01T13:53:35.861846",
     "status": "completed"
    },
    "tags": []
   },
   "outputs": [],
   "source": [
    "# Importation des bibliothèques essentielles pour le traitement des données et le machine learning\n",
    "import numpy as np\n",
    "import torch\n",
    "import pandas as pd\n",
    "from datasets import Dataset\n",
    "from sklearn.model_selection import train_test_split\n",
    "\n",
    "\n",
    "\n",
    "# Bibliothèque pour l'évaluation des modèles\n",
    "import evaluate"
   ]
  },
  {
   "cell_type": "markdown",
   "id": "d374cbbb",
   "metadata": {
    "papermill": {
     "duration": 0.008313,
     "end_time": "2025-04-01T13:53:59.010880",
     "exception": false,
     "start_time": "2025-04-01T13:53:59.002567",
     "status": "completed"
    },
    "tags": []
   },
   "source": [
    "\n",
    "# **Chargement des données**\n"
   ]
  },
  {
   "cell_type": "code",
   "execution_count": 4,
   "id": "9d21743e",
   "metadata": {
    "execution": {
     "iopub.execute_input": "2025-04-01T13:53:59.029015Z",
     "iopub.status.busy": "2025-04-01T13:53:59.028379Z",
     "iopub.status.idle": "2025-04-01T13:54:00.713495Z",
     "shell.execute_reply": "2025-04-01T13:54:00.712491Z"
    },
    "papermill": {
     "duration": 1.711249,
     "end_time": "2025-04-01T13:54:00.730446",
     "exception": false,
     "start_time": "2025-04-01T13:53:59.019197",
     "status": "completed"
    },
    "tags": []
   },
   "outputs": [
    {
     "data": {
      "text/html": [
       "<div>\n",
       "<style scoped>\n",
       "    .dataframe tbody tr th:only-of-type {\n",
       "        vertical-align: middle;\n",
       "    }\n",
       "\n",
       "    .dataframe tbody tr th {\n",
       "        vertical-align: top;\n",
       "    }\n",
       "\n",
       "    .dataframe thead th {\n",
       "        text-align: right;\n",
       "    }\n",
       "</style>\n",
       "<table border=\"1\" class=\"dataframe\">\n",
       "  <thead>\n",
       "    <tr style=\"text-align: right;\">\n",
       "      <th></th>\n",
       "      <th>review</th>\n",
       "      <th>sentiment</th>\n",
       "    </tr>\n",
       "  </thead>\n",
       "  <tbody>\n",
       "    <tr>\n",
       "      <th>0</th>\n",
       "      <td>One of the other reviewers has mentioned that ...</td>\n",
       "      <td>positive</td>\n",
       "    </tr>\n",
       "    <tr>\n",
       "      <th>1</th>\n",
       "      <td>A wonderful little production. &lt;br /&gt;&lt;br /&gt;The...</td>\n",
       "      <td>positive</td>\n",
       "    </tr>\n",
       "    <tr>\n",
       "      <th>2</th>\n",
       "      <td>I thought this was a wonderful way to spend ti...</td>\n",
       "      <td>positive</td>\n",
       "    </tr>\n",
       "    <tr>\n",
       "      <th>3</th>\n",
       "      <td>Basically there's a family where a little boy ...</td>\n",
       "      <td>negative</td>\n",
       "    </tr>\n",
       "    <tr>\n",
       "      <th>4</th>\n",
       "      <td>Petter Mattei's \"Love in the Time of Money\" is...</td>\n",
       "      <td>positive</td>\n",
       "    </tr>\n",
       "  </tbody>\n",
       "</table>\n",
       "</div>"
      ],
      "text/plain": [
       "                                              review sentiment\n",
       "0  One of the other reviewers has mentioned that ...  positive\n",
       "1  A wonderful little production. <br /><br />The...  positive\n",
       "2  I thought this was a wonderful way to spend ti...  positive\n",
       "3  Basically there's a family where a little boy ...  negative\n",
       "4  Petter Mattei's \"Love in the Time of Money\" is...  positive"
      ]
     },
     "execution_count": 4,
     "metadata": {},
     "output_type": "execute_result"
    }
   ],
   "source": [
    "# Chemin le fichier\n",
    "file_path = '/kaggle/input/imdb-dataset/IMDB-Dataset.csv'\n",
    "\n",
    "# Charger les données depuis le fichier CSV\n",
    "df = pd.read_csv(file_path)\n",
    "df.head()"
   ]
  },
  {
   "cell_type": "code",
   "execution_count": 5,
   "id": "b381b2f8",
   "metadata": {
    "execution": {
     "iopub.execute_input": "2025-04-01T13:54:00.749386Z",
     "iopub.status.busy": "2025-04-01T13:54:00.749103Z",
     "iopub.status.idle": "2025-04-01T13:54:00.771961Z",
     "shell.execute_reply": "2025-04-01T13:54:00.771118Z"
    },
    "papermill": {
     "duration": 0.033863,
     "end_time": "2025-04-01T13:54:00.773462",
     "exception": false,
     "start_time": "2025-04-01T13:54:00.739599",
     "status": "completed"
    },
    "tags": []
   },
   "outputs": [
    {
     "data": {
      "text/html": [
       "<div>\n",
       "<style scoped>\n",
       "    .dataframe tbody tr th:only-of-type {\n",
       "        vertical-align: middle;\n",
       "    }\n",
       "\n",
       "    .dataframe tbody tr th {\n",
       "        vertical-align: top;\n",
       "    }\n",
       "\n",
       "    .dataframe thead th {\n",
       "        text-align: right;\n",
       "    }\n",
       "</style>\n",
       "<table border=\"1\" class=\"dataframe\">\n",
       "  <thead>\n",
       "    <tr style=\"text-align: right;\">\n",
       "      <th></th>\n",
       "      <th>review</th>\n",
       "      <th>label</th>\n",
       "    </tr>\n",
       "  </thead>\n",
       "  <tbody>\n",
       "    <tr>\n",
       "      <th>0</th>\n",
       "      <td>One of the other reviewers has mentioned that ...</td>\n",
       "      <td>1</td>\n",
       "    </tr>\n",
       "    <tr>\n",
       "      <th>1</th>\n",
       "      <td>A wonderful little production. &lt;br /&gt;&lt;br /&gt;The...</td>\n",
       "      <td>1</td>\n",
       "    </tr>\n",
       "    <tr>\n",
       "      <th>2</th>\n",
       "      <td>I thought this was a wonderful way to spend ti...</td>\n",
       "      <td>1</td>\n",
       "    </tr>\n",
       "    <tr>\n",
       "      <th>3</th>\n",
       "      <td>Basically there's a family where a little boy ...</td>\n",
       "      <td>0</td>\n",
       "    </tr>\n",
       "    <tr>\n",
       "      <th>4</th>\n",
       "      <td>Petter Mattei's \"Love in the Time of Money\" is...</td>\n",
       "      <td>1</td>\n",
       "    </tr>\n",
       "  </tbody>\n",
       "</table>\n",
       "</div>"
      ],
      "text/plain": [
       "                                              review  label\n",
       "0  One of the other reviewers has mentioned that ...      1\n",
       "1  A wonderful little production. <br /><br />The...      1\n",
       "2  I thought this was a wonderful way to spend ti...      1\n",
       "3  Basically there's a family where a little boy ...      0\n",
       "4  Petter Mattei's \"Love in the Time of Money\" is...      1"
      ]
     },
     "execution_count": 5,
     "metadata": {},
     "output_type": "execute_result"
    }
   ],
   "source": [
    "# Conversion des étiquettes en format numérique\n",
    "df['label'] = df['sentiment'].map({'positive': 1, 'negative': 0})\n",
    "df.drop(['sentiment'], axis=1, inplace=True)\n",
    "df.head()"
   ]
  },
  {
   "cell_type": "markdown",
   "id": "fbf4dffe",
   "metadata": {
    "papermill": {
     "duration": 0.008365,
     "end_time": "2025-04-01T13:54:00.790959",
     "exception": false,
     "start_time": "2025-04-01T13:54:00.782594",
     "status": "completed"
    },
    "tags": []
   },
   "source": [
    "# **Nettoyage du texte**\n",
    "\n",
    "Il est important de supprimer les balises HTML, les caractères spéciaux et de normaliser le texte."
   ]
  },
  {
   "cell_type": "code",
   "execution_count": 6,
   "id": "fe334eed",
   "metadata": {
    "execution": {
     "iopub.execute_input": "2025-04-01T13:54:00.809031Z",
     "iopub.status.busy": "2025-04-01T13:54:00.808730Z",
     "iopub.status.idle": "2025-04-01T13:54:36.340065Z",
     "shell.execute_reply": "2025-04-01T13:54:36.339222Z"
    },
    "papermill": {
     "duration": 35.542611,
     "end_time": "2025-04-01T13:54:36.341929",
     "exception": false,
     "start_time": "2025-04-01T13:54:00.799318",
     "status": "completed"
    },
    "tags": []
   },
   "outputs": [
    {
     "name": "stderr",
     "output_type": "stream",
     "text": [
      "<ipython-input-6-d59095b271e7>:6: MarkupResemblesLocatorWarning: The input looks more like a filename than markup. You may want to open this file and pass the filehandle into Beautiful Soup.\n",
      "  text = BeautifulSoup(text, \"html.parser\").get_text()\n"
     ]
    }
   ],
   "source": [
    "import re\n",
    "from bs4 import BeautifulSoup\n",
    "\n",
    "def clean_text(text):\n",
    "    # Remove HTML tags\n",
    "    text = BeautifulSoup(text, \"html.parser\").get_text()\n",
    "\n",
    "    # Replace specific contractions\n",
    "    contractions = {\n",
    "        \"i'm\": \"i am\",\n",
    "        \"couldn't\": \"could not\",\n",
    "        \"it's\": \"it is\",\n",
    "        \"wouldn't\": \"would not\",\n",
    "        \"don't\": \"do not\",\n",
    "        \"doesn't\": \"does not\",\n",
    "        \"didn't\": \"did not\",\n",
    "        \"won't\": \"will not\",\n",
    "        \"can't\": \"cannot\",\n",
    "        \"isn't\": \"is not\",\n",
    "        \"aren't\": \"are not\",\n",
    "        \"wasn't\": \"was not\",\n",
    "        \"weren't\": \"were not\",\n",
    "        \"hasn't\": \"has not\",\n",
    "        \"haven't\": \"have not\",\n",
    "        \"hadn't\": \"had not\",\n",
    "        \"doesn't\": \"does not\"\n",
    "    }\n",
    "\n",
    "    # Replace contractions in the text\n",
    "    for contraction, replacement in contractions.items():\n",
    "        text = re.sub(r'\\b' + contraction + r'\\b', replacement, text, flags=re.IGNORECASE)\n",
    "\n",
    "    # Remove special characters\n",
    "    text = re.sub(r\"[^a-zA-Z0-9\\s]\", \"\", text)\n",
    "\n",
    "    # Convert to lowercase\n",
    "    text = text.lower()\n",
    "\n",
    "    return text\n",
    "\n",
    "# Appliquer le nettoyage sur la colonne 'text'\n",
    "df[\"clean_text\"] = df[\"review\"].astype(str).apply(clean_text)"
   ]
  },
  {
   "cell_type": "code",
   "execution_count": 7,
   "id": "5b8ebe53",
   "metadata": {
    "execution": {
     "iopub.execute_input": "2025-04-01T13:54:36.363671Z",
     "iopub.status.busy": "2025-04-01T13:54:36.363006Z",
     "iopub.status.idle": "2025-04-01T13:54:36.371149Z",
     "shell.execute_reply": "2025-04-01T13:54:36.370461Z"
    },
    "papermill": {
     "duration": 0.01948,
     "end_time": "2025-04-01T13:54:36.372364",
     "exception": false,
     "start_time": "2025-04-01T13:54:36.352884",
     "status": "completed"
    },
    "tags": []
   },
   "outputs": [
    {
     "data": {
      "text/html": [
       "<div>\n",
       "<style scoped>\n",
       "    .dataframe tbody tr th:only-of-type {\n",
       "        vertical-align: middle;\n",
       "    }\n",
       "\n",
       "    .dataframe tbody tr th {\n",
       "        vertical-align: top;\n",
       "    }\n",
       "\n",
       "    .dataframe thead th {\n",
       "        text-align: right;\n",
       "    }\n",
       "</style>\n",
       "<table border=\"1\" class=\"dataframe\">\n",
       "  <thead>\n",
       "    <tr style=\"text-align: right;\">\n",
       "      <th></th>\n",
       "      <th>review</th>\n",
       "      <th>label</th>\n",
       "      <th>clean_text</th>\n",
       "    </tr>\n",
       "  </thead>\n",
       "  <tbody>\n",
       "    <tr>\n",
       "      <th>0</th>\n",
       "      <td>One of the other reviewers has mentioned that ...</td>\n",
       "      <td>1</td>\n",
       "      <td>one of the other reviewers has mentioned that ...</td>\n",
       "    </tr>\n",
       "    <tr>\n",
       "      <th>1</th>\n",
       "      <td>A wonderful little production. &lt;br /&gt;&lt;br /&gt;The...</td>\n",
       "      <td>1</td>\n",
       "      <td>a wonderful little production the filming tech...</td>\n",
       "    </tr>\n",
       "    <tr>\n",
       "      <th>2</th>\n",
       "      <td>I thought this was a wonderful way to spend ti...</td>\n",
       "      <td>1</td>\n",
       "      <td>i thought this was a wonderful way to spend ti...</td>\n",
       "    </tr>\n",
       "    <tr>\n",
       "      <th>3</th>\n",
       "      <td>Basically there's a family where a little boy ...</td>\n",
       "      <td>0</td>\n",
       "      <td>basically theres a family where a little boy j...</td>\n",
       "    </tr>\n",
       "    <tr>\n",
       "      <th>4</th>\n",
       "      <td>Petter Mattei's \"Love in the Time of Money\" is...</td>\n",
       "      <td>1</td>\n",
       "      <td>petter matteis love in the time of money is a ...</td>\n",
       "    </tr>\n",
       "  </tbody>\n",
       "</table>\n",
       "</div>"
      ],
      "text/plain": [
       "                                              review  label  \\\n",
       "0  One of the other reviewers has mentioned that ...      1   \n",
       "1  A wonderful little production. <br /><br />The...      1   \n",
       "2  I thought this was a wonderful way to spend ti...      1   \n",
       "3  Basically there's a family where a little boy ...      0   \n",
       "4  Petter Mattei's \"Love in the Time of Money\" is...      1   \n",
       "\n",
       "                                          clean_text  \n",
       "0  one of the other reviewers has mentioned that ...  \n",
       "1  a wonderful little production the filming tech...  \n",
       "2  i thought this was a wonderful way to spend ti...  \n",
       "3  basically theres a family where a little boy j...  \n",
       "4  petter matteis love in the time of money is a ...  "
      ]
     },
     "execution_count": 7,
     "metadata": {},
     "output_type": "execute_result"
    }
   ],
   "source": [
    "df.head()"
   ]
  },
  {
   "cell_type": "code",
   "execution_count": 8,
   "id": "9db315b7",
   "metadata": {
    "execution": {
     "iopub.execute_input": "2025-04-01T13:54:36.391107Z",
     "iopub.status.busy": "2025-04-01T13:54:36.390839Z",
     "iopub.status.idle": "2025-04-01T13:54:36.397376Z",
     "shell.execute_reply": "2025-04-01T13:54:36.396805Z"
    },
    "papermill": {
     "duration": 0.017553,
     "end_time": "2025-04-01T13:54:36.398834",
     "exception": false,
     "start_time": "2025-04-01T13:54:36.381281",
     "status": "completed"
    },
    "tags": []
   },
   "outputs": [],
   "source": [
    "df.drop(columns=[\"review\"], inplace=True)"
   ]
  },
  {
   "cell_type": "code",
   "execution_count": 9,
   "id": "95f080f2",
   "metadata": {
    "execution": {
     "iopub.execute_input": "2025-04-01T13:54:36.418420Z",
     "iopub.status.busy": "2025-04-01T13:54:36.418152Z",
     "iopub.status.idle": "2025-04-01T13:54:36.425915Z",
     "shell.execute_reply": "2025-04-01T13:54:36.425194Z"
    },
    "papermill": {
     "duration": 0.018884,
     "end_time": "2025-04-01T13:54:36.427076",
     "exception": false,
     "start_time": "2025-04-01T13:54:36.408192",
     "status": "completed"
    },
    "tags": []
   },
   "outputs": [
    {
     "data": {
      "text/html": [
       "<div>\n",
       "<style scoped>\n",
       "    .dataframe tbody tr th:only-of-type {\n",
       "        vertical-align: middle;\n",
       "    }\n",
       "\n",
       "    .dataframe tbody tr th {\n",
       "        vertical-align: top;\n",
       "    }\n",
       "\n",
       "    .dataframe thead th {\n",
       "        text-align: right;\n",
       "    }\n",
       "</style>\n",
       "<table border=\"1\" class=\"dataframe\">\n",
       "  <thead>\n",
       "    <tr style=\"text-align: right;\">\n",
       "      <th></th>\n",
       "      <th>label</th>\n",
       "      <th>clean_text</th>\n",
       "    </tr>\n",
       "  </thead>\n",
       "  <tbody>\n",
       "    <tr>\n",
       "      <th>0</th>\n",
       "      <td>1</td>\n",
       "      <td>one of the other reviewers has mentioned that ...</td>\n",
       "    </tr>\n",
       "    <tr>\n",
       "      <th>1</th>\n",
       "      <td>1</td>\n",
       "      <td>a wonderful little production the filming tech...</td>\n",
       "    </tr>\n",
       "    <tr>\n",
       "      <th>2</th>\n",
       "      <td>1</td>\n",
       "      <td>i thought this was a wonderful way to spend ti...</td>\n",
       "    </tr>\n",
       "    <tr>\n",
       "      <th>3</th>\n",
       "      <td>0</td>\n",
       "      <td>basically theres a family where a little boy j...</td>\n",
       "    </tr>\n",
       "    <tr>\n",
       "      <th>4</th>\n",
       "      <td>1</td>\n",
       "      <td>petter matteis love in the time of money is a ...</td>\n",
       "    </tr>\n",
       "    <tr>\n",
       "      <th>...</th>\n",
       "      <td>...</td>\n",
       "      <td>...</td>\n",
       "    </tr>\n",
       "    <tr>\n",
       "      <th>49995</th>\n",
       "      <td>1</td>\n",
       "      <td>i thought this movie did a down right good job...</td>\n",
       "    </tr>\n",
       "    <tr>\n",
       "      <th>49996</th>\n",
       "      <td>0</td>\n",
       "      <td>bad plot bad dialogue bad acting idiotic direc...</td>\n",
       "    </tr>\n",
       "    <tr>\n",
       "      <th>49997</th>\n",
       "      <td>0</td>\n",
       "      <td>i am a catholic taught in parochial elementary...</td>\n",
       "    </tr>\n",
       "    <tr>\n",
       "      <th>49998</th>\n",
       "      <td>0</td>\n",
       "      <td>i am going to have to disagree with the previo...</td>\n",
       "    </tr>\n",
       "    <tr>\n",
       "      <th>49999</th>\n",
       "      <td>0</td>\n",
       "      <td>no one expects the star trek movies to be high...</td>\n",
       "    </tr>\n",
       "  </tbody>\n",
       "</table>\n",
       "<p>50000 rows × 2 columns</p>\n",
       "</div>"
      ],
      "text/plain": [
       "       label                                         clean_text\n",
       "0          1  one of the other reviewers has mentioned that ...\n",
       "1          1  a wonderful little production the filming tech...\n",
       "2          1  i thought this was a wonderful way to spend ti...\n",
       "3          0  basically theres a family where a little boy j...\n",
       "4          1  petter matteis love in the time of money is a ...\n",
       "...      ...                                                ...\n",
       "49995      1  i thought this movie did a down right good job...\n",
       "49996      0  bad plot bad dialogue bad acting idiotic direc...\n",
       "49997      0  i am a catholic taught in parochial elementary...\n",
       "49998      0  i am going to have to disagree with the previo...\n",
       "49999      0  no one expects the star trek movies to be high...\n",
       "\n",
       "[50000 rows x 2 columns]"
      ]
     },
     "execution_count": 9,
     "metadata": {},
     "output_type": "execute_result"
    }
   ],
   "source": [
    "df"
   ]
  },
  {
   "cell_type": "code",
   "execution_count": 10,
   "id": "1301ae66",
   "metadata": {
    "execution": {
     "iopub.execute_input": "2025-04-01T13:54:36.447186Z",
     "iopub.status.busy": "2025-04-01T13:54:36.446929Z",
     "iopub.status.idle": "2025-04-01T13:54:36.456815Z",
     "shell.execute_reply": "2025-04-01T13:54:36.456158Z"
    },
    "papermill": {
     "duration": 0.021875,
     "end_time": "2025-04-01T13:54:36.458130",
     "exception": false,
     "start_time": "2025-04-01T13:54:36.436255",
     "status": "completed"
    },
    "tags": []
   },
   "outputs": [],
   "source": [
    "# Séparer les données en ensembles d'entraînement et de test\n",
    "train_df, test_df = train_test_split(df, test_size=0.2, random_state=42)"
   ]
  },
  {
   "cell_type": "code",
   "execution_count": 11,
   "id": "a19f401f",
   "metadata": {
    "execution": {
     "iopub.execute_input": "2025-04-01T13:54:36.478064Z",
     "iopub.status.busy": "2025-04-01T13:54:36.477748Z",
     "iopub.status.idle": "2025-04-01T13:54:36.485963Z",
     "shell.execute_reply": "2025-04-01T13:54:36.485126Z"
    },
    "papermill": {
     "duration": 0.020083,
     "end_time": "2025-04-01T13:54:36.487390",
     "exception": false,
     "start_time": "2025-04-01T13:54:36.467307",
     "status": "completed"
    },
    "tags": []
   },
   "outputs": [],
   "source": [
    "# Sélectionner un sous-ensemble aléatoire de N échantillons pour l'entraînement et le test\n",
    "N = 1000\n",
    "train_subset = train_df.sample(n=N, random_state=42)\n",
    "test_subset = test_df.sample(n=N, random_state=42)"
   ]
  },
  {
   "cell_type": "code",
   "execution_count": 12,
   "id": "62aff626",
   "metadata": {
    "execution": {
     "iopub.execute_input": "2025-04-01T13:54:36.509110Z",
     "iopub.status.busy": "2025-04-01T13:54:36.508842Z",
     "iopub.status.idle": "2025-04-01T13:54:36.549436Z",
     "shell.execute_reply": "2025-04-01T13:54:36.548769Z"
    },
    "papermill": {
     "duration": 0.052609,
     "end_time": "2025-04-01T13:54:36.550899",
     "exception": false,
     "start_time": "2025-04-01T13:54:36.498290",
     "status": "completed"
    },
    "tags": []
   },
   "outputs": [],
   "source": [
    "# Créer les datasets Hugging Face\n",
    "train_dataset = Dataset.from_pandas(train_subset)\n",
    "test_dataset = Dataset.from_pandas(test_subset)"
   ]
  },
  {
   "cell_type": "code",
   "execution_count": 13,
   "id": "709b9ae3",
   "metadata": {
    "execution": {
     "iopub.execute_input": "2025-04-01T13:54:36.570347Z",
     "iopub.status.busy": "2025-04-01T13:54:36.570069Z",
     "iopub.status.idle": "2025-04-01T13:54:36.574558Z",
     "shell.execute_reply": "2025-04-01T13:54:36.573901Z"
    },
    "papermill": {
     "duration": 0.015682,
     "end_time": "2025-04-01T13:54:36.575805",
     "exception": false,
     "start_time": "2025-04-01T13:54:36.560123",
     "status": "completed"
    },
    "tags": []
   },
   "outputs": [
    {
     "data": {
      "text/plain": [
       "Dataset({\n",
       "    features: ['label', 'clean_text', '__index_level_0__'],\n",
       "    num_rows: 1000\n",
       "})"
      ]
     },
     "execution_count": 13,
     "metadata": {},
     "output_type": "execute_result"
    }
   ],
   "source": [
    "train_dataset"
   ]
  },
  {
   "cell_type": "code",
   "execution_count": 14,
   "id": "17298e21",
   "metadata": {
    "execution": {
     "iopub.execute_input": "2025-04-01T13:54:36.594693Z",
     "iopub.status.busy": "2025-04-01T13:54:36.594405Z",
     "iopub.status.idle": "2025-04-01T13:54:36.598766Z",
     "shell.execute_reply": "2025-04-01T13:54:36.597994Z"
    },
    "papermill": {
     "duration": 0.015082,
     "end_time": "2025-04-01T13:54:36.599973",
     "exception": false,
     "start_time": "2025-04-01T13:54:36.584891",
     "status": "completed"
    },
    "tags": []
   },
   "outputs": [
    {
     "data": {
      "text/plain": [
       "Dataset({\n",
       "    features: ['label', 'clean_text', '__index_level_0__'],\n",
       "    num_rows: 1000\n",
       "})"
      ]
     },
     "execution_count": 14,
     "metadata": {},
     "output_type": "execute_result"
    }
   ],
   "source": [
    "test_dataset"
   ]
  },
  {
   "cell_type": "markdown",
   "id": "4ee3c934",
   "metadata": {
    "papermill": {
     "duration": 0.008802,
     "end_time": "2025-04-01T13:54:36.617986",
     "exception": false,
     "start_time": "2025-04-01T13:54:36.609184",
     "status": "completed"
    },
    "tags": []
   },
   "source": [
    "# F****inetuning complet****\n",
    "\n",
    "DistilBERT (de \"Distilled BERT\") est une version plus petite et plus rapide du modèle BERT (Bidirectional Encoder Representations from Transformers) développé par Hugging Face. Il offre des performances proches de BERT avec une taille réduite et une vitesse accrue."
   ]
  },
  {
   "cell_type": "code",
   "execution_count": 15,
   "id": "a4edfbfc",
   "metadata": {
    "execution": {
     "iopub.execute_input": "2025-04-01T13:54:36.637121Z",
     "iopub.status.busy": "2025-04-01T13:54:36.636828Z",
     "iopub.status.idle": "2025-04-01T13:54:38.099820Z",
     "shell.execute_reply": "2025-04-01T13:54:38.099028Z"
    },
    "papermill": {
     "duration": 1.474451,
     "end_time": "2025-04-01T13:54:38.101356",
     "exception": false,
     "start_time": "2025-04-01T13:54:36.626905",
     "status": "completed"
    },
    "tags": []
   },
   "outputs": [],
   "source": [
    "import torch\n",
    "# Importe PyTorch, une bibliothèque pour les réseaux de neurones profonds et l'apprentissage automatique.\n",
    "\n",
    "import pandas as pd\n",
    "# Importe pandas, une bibliothèque pour la manipulation et l'analyse de données, souvent utilisée pour manipuler des tableaux de données.\n",
    "\n",
    "from datasets import Dataset, DatasetDict\n",
    "# Importe 'Dataset' et 'DatasetDict' de la bibliothèque 'datasets' de Hugging Face, utilisés pour gérer et préparer des ensembles de données pour l'entraînement de modèles.\n",
    "\n",
    "from transformers import DistilBertTokenizer, DistilBertForSequenceClassification, TrainingArguments, Trainer,  EarlyStoppingCallback\n",
    "# Importe plusieurs classes de la bibliothèque 'transformers' de Hugging Face:\n",
    "# - DistilBertTokenizer : pour convertir du texte en tokens compréhensibles par DistilBERT.\n",
    "# - DistilBertForSequenceClassification : une version de DistilBERT préparée pour la classification de séquences (par exemple, classification de texte).\n",
    "# - TrainingArguments : pour configurer les paramètres d'entraînement.\n",
    "# - Trainer : pour orchestrer le processus d'entraînement du modèle.\n",
    "\n",
    "import torch.optim as optim\n",
    "# Importe le sous-module 'optim' de PyTorch, qui contient divers algorithmes d'optimisation utilisés pour mettre à jour les poids du réseau pendant l'entraînement, tels que SGD, Adam, etc."
   ]
  },
  {
   "cell_type": "code",
   "execution_count": 16,
   "id": "1c9838e8",
   "metadata": {
    "execution": {
     "iopub.execute_input": "2025-04-01T13:54:38.121253Z",
     "iopub.status.busy": "2025-04-01T13:54:38.120980Z",
     "iopub.status.idle": "2025-04-01T13:54:38.124364Z",
     "shell.execute_reply": "2025-04-01T13:54:38.123718Z"
    },
    "papermill": {
     "duration": 0.014616,
     "end_time": "2025-04-01T13:54:38.125593",
     "exception": false,
     "start_time": "2025-04-01T13:54:38.110977",
     "status": "completed"
    },
    "tags": []
   },
   "outputs": [],
   "source": [
    "# Paramètres d'entraînement\n",
    "model_checkpoint = \"distilbert-base-uncased\"  # Modèle distilbert pré-entraîné\n",
    "lr = 2e-5  # Taux d'apprentissage\n",
    "batch_size = 8  # Taille du lot\n",
    "num_epochs = 5  # Nombre d'époques"
   ]
  },
  {
   "cell_type": "markdown",
   "id": "662ffccd",
   "metadata": {
    "papermill": {
     "duration": 0.009126,
     "end_time": "2025-04-01T13:54:38.144254",
     "exception": false,
     "start_time": "2025-04-01T13:54:38.135128",
     "status": "completed"
    },
    "tags": []
   },
   "source": [
    "Dans le domaine du traitement du langage naturel (NLP), le \"padding\" joue un rôle crucial dans la préparation des données pour l'entraînement de modèles. Voici quelques détails clés :\n",
    "\n",
    "Concept de Padding en NLP Uniformité des Longueurs de Séquences : Les modèles de NLP, en particulier ceux basés sur des réseaux de neurones, nécessitent que toutes les entrées (phrases, paragraphes, etc.) dans un lot de données (batch) aient la même longueur pour un traitement efficace. Cependant, dans la réalité, les séquences de mots varient en longueur. Ajout de Valeurs de Remplissage : Pour résoudre ce problème, le padding est utilisé pour \"remplir\" les séquences plus courtes avec des valeurs neutres (souvent des zéros ou un token spécifique) pour qu'elles correspondent à la longueur de la séquence la plus longue dans le lot."
   ]
  },
  {
   "cell_type": "code",
   "execution_count": 17,
   "id": "79bd84e3",
   "metadata": {
    "execution": {
     "iopub.execute_input": "2025-04-01T13:54:38.163458Z",
     "iopub.status.busy": "2025-04-01T13:54:38.163130Z",
     "iopub.status.idle": "2025-04-01T13:54:48.865784Z",
     "shell.execute_reply": "2025-04-01T13:54:48.864836Z"
    },
    "papermill": {
     "duration": 10.714239,
     "end_time": "2025-04-01T13:54:48.867454",
     "exception": false,
     "start_time": "2025-04-01T13:54:38.153215",
     "status": "completed"
    },
    "tags": []
   },
   "outputs": [
    {
     "data": {
      "application/vnd.jupyter.widget-view+json": {
       "model_id": "cfd6f04b9da44421af9aad10a72de19a",
       "version_major": 2,
       "version_minor": 0
      },
      "text/plain": [
       "tokenizer_config.json:   0%|          | 0.00/48.0 [00:00<?, ?B/s]"
      ]
     },
     "metadata": {},
     "output_type": "display_data"
    },
    {
     "data": {
      "application/vnd.jupyter.widget-view+json": {
       "model_id": "ca0d9e6f1b60466eabfe198e728074af",
       "version_major": 2,
       "version_minor": 0
      },
      "text/plain": [
       "vocab.txt:   0%|          | 0.00/232k [00:00<?, ?B/s]"
      ]
     },
     "metadata": {},
     "output_type": "display_data"
    },
    {
     "data": {
      "application/vnd.jupyter.widget-view+json": {
       "model_id": "a0a76bc00e2443c68023dcff3b1e9aab",
       "version_major": 2,
       "version_minor": 0
      },
      "text/plain": [
       "tokenizer.json:   0%|          | 0.00/466k [00:00<?, ?B/s]"
      ]
     },
     "metadata": {},
     "output_type": "display_data"
    },
    {
     "data": {
      "application/vnd.jupyter.widget-view+json": {
       "model_id": "711cd807cda74129ab42e3db77705d9f",
       "version_major": 2,
       "version_minor": 0
      },
      "text/plain": [
       "config.json:   0%|          | 0.00/483 [00:00<?, ?B/s]"
      ]
     },
     "metadata": {},
     "output_type": "display_data"
    }
   ],
   "source": [
    "# Charger le tokenizer et le modèle pré-entraîné\n",
    "tokenizer = DistilBertTokenizer.from_pretrained(\"distilbert-base-uncased\")\n",
    "train_encodings = tokenizer(train_dataset['clean_text'], truncation=True, padding=True, return_tensors='pt')\n",
    "test_encodings = tokenizer(test_dataset['clean_text'], truncation=True, padding=True, return_tensors='pt')"
   ]
  },
  {
   "cell_type": "code",
   "execution_count": 18,
   "id": "334ec23d",
   "metadata": {
    "execution": {
     "iopub.execute_input": "2025-04-01T13:54:48.890587Z",
     "iopub.status.busy": "2025-04-01T13:54:48.890262Z",
     "iopub.status.idle": "2025-04-01T13:54:49.015460Z",
     "shell.execute_reply": "2025-04-01T13:54:49.014812Z"
    },
    "papermill": {
     "duration": 0.138938,
     "end_time": "2025-04-01T13:54:49.017017",
     "exception": false,
     "start_time": "2025-04-01T13:54:48.878079",
     "status": "completed"
    },
    "tags": []
   },
   "outputs": [],
   "source": [
    "# Étape 2 : Création des datasets PyTorch\n",
    "train_datasetb = Dataset.from_dict({\n",
    "    # 'input_ids' : Contient les identifiants de tokens obtenus après le processus de tokenisation du texte. \n",
    "    # Ces identifiants sont nécessaires pour que le modèle comprenne et traite le texte.\n",
    "    'input_ids': train_encodings['input_ids'],\n",
    "\n",
    "    # 'attention_mask' : Un masque d'attention qui indique au modèle quels tokens dans 'input_ids' sont significatifs \n",
    "    # (c'est-à-dire non-padding) et doivent être pris en compte lors du traitement.\n",
    "    'attention_mask': train_encodings['attention_mask'],\n",
    "\n",
    "    # 'labels' : Les étiquettes associées à chaque exemple d'entraînement. Ces étiquettes sont utilisées pour l'apprentissage supervisé,\n",
    "    # où le modèle apprend à associer les entrées à ces étiquettes correctes.\n",
    "    # 'torch.tensor()' est utilisé pour convertir la liste des étiquettes en tensor PyTorch, \n",
    "    # ce qui est nécessaire pour le traitement avec PyTorch.\n",
    "    'labels': torch.tensor(train_dataset['label'])\n",
    "})\n",
    "\n",
    "test_datasetb = Dataset.from_dict({\n",
    "    'input_ids': test_encodings['input_ids'],\n",
    "    'attention_mask': test_encodings['attention_mask'],\n",
    "    'labels': torch.tensor(test_dataset['label'])\n",
    "})\n",
    "\n",
    "# Création d'un DatasetDict\n",
    "datasetb = DatasetDict({\n",
    "    'train': train_datasetb,\n",
    "    'test': test_datasetb\n",
    "})"
   ]
  },
  {
   "cell_type": "code",
   "execution_count": 19,
   "id": "d6bf82cc",
   "metadata": {
    "execution": {
     "iopub.execute_input": "2025-04-01T13:54:49.038167Z",
     "iopub.status.busy": "2025-04-01T13:54:49.037872Z",
     "iopub.status.idle": "2025-04-01T13:54:50.590562Z",
     "shell.execute_reply": "2025-04-01T13:54:50.589786Z"
    },
    "papermill": {
     "duration": 1.564798,
     "end_time": "2025-04-01T13:54:50.592080",
     "exception": false,
     "start_time": "2025-04-01T13:54:49.027282",
     "status": "completed"
    },
    "tags": []
   },
   "outputs": [
    {
     "data": {
      "application/vnd.jupyter.widget-view+json": {
       "model_id": "8741bfb3cd4343babae8df8625a1864c",
       "version_major": 2,
       "version_minor": 0
      },
      "text/plain": [
       "model.safetensors:   0%|          | 0.00/268M [00:00<?, ?B/s]"
      ]
     },
     "metadata": {},
     "output_type": "display_data"
    },
    {
     "name": "stderr",
     "output_type": "stream",
     "text": [
      "Some weights of DistilBertForSequenceClassification were not initialized from the model checkpoint at distilbert-base-uncased and are newly initialized: ['classifier.bias', 'classifier.weight', 'pre_classifier.bias', 'pre_classifier.weight']\n",
      "You should probably TRAIN this model on a down-stream task to be able to use it for predictions and inference.\n"
     ]
    }
   ],
   "source": [
    "# Création d'un modèle de classification de séquences basé sur DistilBERT\n",
    "model = DistilBertForSequenceClassification.from_pretrained(\"distilbert-base-uncased\", num_labels=2)"
   ]
  },
  {
   "cell_type": "code",
   "execution_count": 20,
   "id": "ee6b52c3",
   "metadata": {
    "execution": {
     "iopub.execute_input": "2025-04-01T13:54:50.613720Z",
     "iopub.status.busy": "2025-04-01T13:54:50.613298Z",
     "iopub.status.idle": "2025-04-01T13:54:50.620499Z",
     "shell.execute_reply": "2025-04-01T13:54:50.619616Z"
    },
    "papermill": {
     "duration": 0.019477,
     "end_time": "2025-04-01T13:54:50.621939",
     "exception": false,
     "start_time": "2025-04-01T13:54:50.602462",
     "status": "completed"
    },
    "tags": []
   },
   "outputs": [
    {
     "name": "stdout",
     "output_type": "stream",
     "text": [
      "Nombre de paramètres du modèle : 66955010\n",
      "DistilBertForSequenceClassification(\n",
      "  (distilbert): DistilBertModel(\n",
      "    (embeddings): Embeddings(\n",
      "      (word_embeddings): Embedding(30522, 768, padding_idx=0)\n",
      "      (position_embeddings): Embedding(512, 768)\n",
      "      (LayerNorm): LayerNorm((768,), eps=1e-12, elementwise_affine=True)\n",
      "      (dropout): Dropout(p=0.1, inplace=False)\n",
      "    )\n",
      "    (transformer): Transformer(\n",
      "      (layer): ModuleList(\n",
      "        (0-5): 6 x TransformerBlock(\n",
      "          (attention): DistilBertSdpaAttention(\n",
      "            (dropout): Dropout(p=0.1, inplace=False)\n",
      "            (q_lin): Linear(in_features=768, out_features=768, bias=True)\n",
      "            (k_lin): Linear(in_features=768, out_features=768, bias=True)\n",
      "            (v_lin): Linear(in_features=768, out_features=768, bias=True)\n",
      "            (out_lin): Linear(in_features=768, out_features=768, bias=True)\n",
      "          )\n",
      "          (sa_layer_norm): LayerNorm((768,), eps=1e-12, elementwise_affine=True)\n",
      "          (ffn): FFN(\n",
      "            (dropout): Dropout(p=0.1, inplace=False)\n",
      "            (lin1): Linear(in_features=768, out_features=3072, bias=True)\n",
      "            (lin2): Linear(in_features=3072, out_features=768, bias=True)\n",
      "            (activation): GELUActivation()\n",
      "          )\n",
      "          (output_layer_norm): LayerNorm((768,), eps=1e-12, elementwise_affine=True)\n",
      "        )\n",
      "      )\n",
      "    )\n",
      "  )\n",
      "  (pre_classifier): Linear(in_features=768, out_features=768, bias=True)\n",
      "  (classifier): Linear(in_features=768, out_features=2, bias=True)\n",
      "  (dropout): Dropout(p=0.2, inplace=False)\n",
      ")\n"
     ]
    }
   ],
   "source": [
    "# Affichage du nombre de paramètres du modèle\n",
    "num_params = sum(p.numel() for p in model.parameters())\n",
    "print(f\"Nombre de paramètres du modèle : {num_params}\")\n",
    "\n",
    "# Afficher l'architecture du modèle BERT\n",
    "print(model)"
   ]
  },
  {
   "cell_type": "code",
   "execution_count": 21,
   "id": "4445400e",
   "metadata": {
    "execution": {
     "iopub.execute_input": "2025-04-01T13:54:50.644514Z",
     "iopub.status.busy": "2025-04-01T13:54:50.644207Z",
     "iopub.status.idle": "2025-04-01T13:54:50.648623Z",
     "shell.execute_reply": "2025-04-01T13:54:50.647820Z"
    },
    "papermill": {
     "duration": 0.016887,
     "end_time": "2025-04-01T13:54:50.649955",
     "exception": false,
     "start_time": "2025-04-01T13:54:50.633068",
     "status": "completed"
    },
    "tags": []
   },
   "outputs": [],
   "source": [
    "# Étape 4 : Définition des paramètres d'entraînement\n",
    "# Configuration de l'optimiseur pour l'entraînement du modèle\n",
    "optimizer = optim.AdamW(model.parameters(), lr=lr)\n",
    "# Définition de la fonction de perte pour l'entraînement du modèle\n",
    "loss_fn = torch.nn.CrossEntropyLoss()"
   ]
  },
  {
   "cell_type": "code",
   "execution_count": 22,
   "id": "6de918e9",
   "metadata": {
    "execution": {
     "iopub.execute_input": "2025-04-01T13:54:50.670835Z",
     "iopub.status.busy": "2025-04-01T13:54:50.670531Z",
     "iopub.status.idle": "2025-04-01T13:54:51.279527Z",
     "shell.execute_reply": "2025-04-01T13:54:51.278270Z"
    },
    "papermill": {
     "duration": 0.621471,
     "end_time": "2025-04-01T13:54:51.281346",
     "exception": false,
     "start_time": "2025-04-01T13:54:50.659875",
     "status": "completed"
    },
    "tags": []
   },
   "outputs": [
    {
     "data": {
      "application/vnd.jupyter.widget-view+json": {
       "model_id": "080b021078a7480782df9afbf37bd499",
       "version_major": 2,
       "version_minor": 0
      },
      "text/plain": [
       "Downloading builder script:   0%|          | 0.00/4.20k [00:00<?, ?B/s]"
      ]
     },
     "metadata": {},
     "output_type": "display_data"
    }
   ],
   "source": [
    "# Importer la métrique pour l'évaluation\n",
    "accuracy = evaluate.load(\"accuracy\")"
   ]
  },
  {
   "cell_type": "code",
   "execution_count": 23,
   "id": "b98f423e",
   "metadata": {
    "execution": {
     "iopub.execute_input": "2025-04-01T13:54:51.303012Z",
     "iopub.status.busy": "2025-04-01T13:54:51.302707Z",
     "iopub.status.idle": "2025-04-01T13:54:51.306542Z",
     "shell.execute_reply": "2025-04-01T13:54:51.305835Z"
    },
    "papermill": {
     "duration": 0.016035,
     "end_time": "2025-04-01T13:54:51.307831",
     "exception": false,
     "start_time": "2025-04-01T13:54:51.291796",
     "status": "completed"
    },
    "tags": []
   },
   "outputs": [],
   "source": [
    "def compute_metrics(p):\n",
    "    predictions, labels = p\n",
    "    predictions = np.argmax(predictions, axis=1)\n",
    "    accuracy_value = accuracy.compute(predictions=predictions, references=labels)[\"accuracy\"]\n",
    "    return {\"accuracy\": accuracy_value}"
   ]
  },
  {
   "cell_type": "code",
   "execution_count": 24,
   "id": "702cb8dd",
   "metadata": {
    "execution": {
     "iopub.execute_input": "2025-04-01T13:54:51.328982Z",
     "iopub.status.busy": "2025-04-01T13:54:51.328675Z",
     "iopub.status.idle": "2025-04-01T13:54:51.332092Z",
     "shell.execute_reply": "2025-04-01T13:54:51.331447Z"
    },
    "papermill": {
     "duration": 0.015379,
     "end_time": "2025-04-01T13:54:51.333284",
     "exception": false,
     "start_time": "2025-04-01T13:54:51.317905",
     "status": "completed"
    },
    "tags": []
   },
   "outputs": [],
   "source": [
    "# Définir la correspondance entre les identifiants de classe et les étiquettes\n",
    "id2label = {0: \"Négatif\", 1: \"Positif\"}\n",
    "label2id = {\"Négatif\": 0, \"Positif\": 1}"
   ]
  },
  {
   "cell_type": "code",
   "execution_count": 25,
   "id": "e994cefa",
   "metadata": {
    "execution": {
     "iopub.execute_input": "2025-04-01T13:54:51.354072Z",
     "iopub.status.busy": "2025-04-01T13:54:51.353790Z",
     "iopub.status.idle": "2025-04-01T13:54:51.747983Z",
     "shell.execute_reply": "2025-04-01T13:54:51.746900Z"
    },
    "papermill": {
     "duration": 0.406391,
     "end_time": "2025-04-01T13:54:51.749531",
     "exception": false,
     "start_time": "2025-04-01T13:54:51.343140",
     "status": "completed"
    },
    "tags": []
   },
   "outputs": [
    {
     "name": "stdout",
     "output_type": "stream",
     "text": [
      "Prédictions du modèle non entraîné:\n",
      "-------------------------------------\n",
      "this movie was a masterpiece - Positif\n",
      "i was blown away by the acting - Positif\n",
      "it is a classic that everyone should watch - Positif\n",
      "the plot was confusing and hard to follow - Positif\n",
      "the special effects were topnotch - Positif\n",
      "i could not stop laughing throughout the movie - Positif\n",
      "the soundtrack was incredible - Positif\n",
      "it is a total waste of time - Positif\n",
      "i am still thinking about that ending - Positif\n",
      "i would not recommend it to anyone - Positif\n"
     ]
    }
   ],
   "source": [
    "liste_texte = [\n",
    "    \"This movie was a masterpiece.\",\n",
    "    \"I was blown away by the acting.\",\n",
    "    \"It's a classic that everyone should watch.\",\n",
    "    \"The plot was confusing and hard to follow.\",\n",
    "    \"The special effects were top-notch.\",\n",
    "    \"I couldn't stop laughing throughout the movie.\",\n",
    "    \"The soundtrack was incredible.\",\n",
    "    \"It's a total waste of time.\",\n",
    "    \"I'm still thinking about that ending.\",\n",
    "    \"I wouldn't recommend it to anyone.\"\n",
    "]\n",
    "\n",
    "liste_texte = [clean_text(x) for x in liste_texte]\n",
    "\n",
    "print(\"Prédictions du modèle non entraîné:\")\n",
    "print(\"-------------------------------------\")\n",
    "text = []\n",
    "label = []\n",
    "for texte in liste_texte:\n",
    "    # Tokenizer le texte\n",
    "    inputs = tokenizer.encode(texte, return_tensors=\"pt\")\n",
    "    # Calculer les logits\n",
    "    logits = model(inputs).logits\n",
    "    # Convertir les logits en étiquette\n",
    "    predictions = torch.argmax(logits)\n",
    "\n",
    "    text.append(texte)\n",
    "    label.append(id2label[predictions.tolist()])\n",
    "\n",
    "    print(texte + \" - \" + id2label[predictions.tolist()])"
   ]
  },
  {
   "cell_type": "code",
   "execution_count": 26,
   "id": "4279d46f",
   "metadata": {
    "execution": {
     "iopub.execute_input": "2025-04-01T13:54:51.773629Z",
     "iopub.status.busy": "2025-04-01T13:54:51.773316Z",
     "iopub.status.idle": "2025-04-01T13:54:51.781343Z",
     "shell.execute_reply": "2025-04-01T13:54:51.780596Z"
    },
    "papermill": {
     "duration": 0.020329,
     "end_time": "2025-04-01T13:54:51.782567",
     "exception": false,
     "start_time": "2025-04-01T13:54:51.762238",
     "status": "completed"
    },
    "tags": []
   },
   "outputs": [
    {
     "data": {
      "text/html": [
       "<div>\n",
       "<style scoped>\n",
       "    .dataframe tbody tr th:only-of-type {\n",
       "        vertical-align: middle;\n",
       "    }\n",
       "\n",
       "    .dataframe tbody tr th {\n",
       "        vertical-align: top;\n",
       "    }\n",
       "\n",
       "    .dataframe thead th {\n",
       "        text-align: right;\n",
       "    }\n",
       "</style>\n",
       "<table border=\"1\" class=\"dataframe\">\n",
       "  <thead>\n",
       "    <tr style=\"text-align: right;\">\n",
       "      <th></th>\n",
       "      <th>text</th>\n",
       "      <th>label</th>\n",
       "    </tr>\n",
       "  </thead>\n",
       "  <tbody>\n",
       "    <tr>\n",
       "      <th>0</th>\n",
       "      <td>this movie was a masterpiece</td>\n",
       "      <td>Positif</td>\n",
       "    </tr>\n",
       "    <tr>\n",
       "      <th>1</th>\n",
       "      <td>i was blown away by the acting</td>\n",
       "      <td>Positif</td>\n",
       "    </tr>\n",
       "    <tr>\n",
       "      <th>2</th>\n",
       "      <td>it is a classic that everyone should watch</td>\n",
       "      <td>Positif</td>\n",
       "    </tr>\n",
       "    <tr>\n",
       "      <th>3</th>\n",
       "      <td>the plot was confusing and hard to follow</td>\n",
       "      <td>Positif</td>\n",
       "    </tr>\n",
       "    <tr>\n",
       "      <th>4</th>\n",
       "      <td>the special effects were topnotch</td>\n",
       "      <td>Positif</td>\n",
       "    </tr>\n",
       "  </tbody>\n",
       "</table>\n",
       "</div>"
      ],
      "text/plain": [
       "                                         text    label\n",
       "0                this movie was a masterpiece  Positif\n",
       "1              i was blown away by the acting  Positif\n",
       "2  it is a classic that everyone should watch  Positif\n",
       "3   the plot was confusing and hard to follow  Positif\n",
       "4           the special effects were topnotch  Positif"
      ]
     },
     "execution_count": 26,
     "metadata": {},
     "output_type": "execute_result"
    }
   ],
   "source": [
    "# Create DataFrame for model pre-trained\n",
    "data = pd.DataFrame({\"text\": text, \"label\": label})\n",
    "\n",
    "# Afficher les premières lignes du DataFrame\n",
    "data.head()"
   ]
  },
  {
   "cell_type": "code",
   "execution_count": 27,
   "id": "eb426e5a",
   "metadata": {
    "execution": {
     "iopub.execute_input": "2025-04-01T13:54:51.805292Z",
     "iopub.status.busy": "2025-04-01T13:54:51.805004Z",
     "iopub.status.idle": "2025-04-01T13:54:51.919859Z",
     "shell.execute_reply": "2025-04-01T13:54:51.918379Z"
    },
    "papermill": {
     "duration": 0.127798,
     "end_time": "2025-04-01T13:54:51.921530",
     "exception": false,
     "start_time": "2025-04-01T13:54:51.793732",
     "status": "completed"
    },
    "tags": []
   },
   "outputs": [
    {
     "name": "stderr",
     "output_type": "stream",
     "text": [
      "/usr/local/lib/python3.10/dist-packages/transformers/training_args.py:1575: FutureWarning: `evaluation_strategy` is deprecated and will be removed in version 4.46 of 🤗 Transformers. Use `eval_strategy` instead\n",
      "  warnings.warn(\n"
     ]
    }
   ],
   "source": [
    "# Étape 5 : Définition des arguments d'entraînement avec Transformers\n",
    "\n",
    "training_args = TrainingArguments(\n",
    "    output_dir=model_checkpoint + \"-fullfinetuned-text-classification\",  # Le répertoire où les résultats de l'entraînement seront sauvegardés\n",
    "    run_name=\"full_finetuning_experiment\",\n",
    "    learning_rate=lr,  # Taux d'apprentissage pour l'optimisation du modèle\n",
    "    per_device_train_batch_size=batch_size,  # Taille du lot d'entraînement par périphérique (GPU ou CPU)\n",
    "    per_device_eval_batch_size=batch_size,  # Taille du lot d'évaluation par périphérique (GPU ou CPU)\n",
    "    num_train_epochs=num_epochs,  # Nombre d'époques d'entraînement (combien de fois le modèle parcourt l'ensemble de données)\n",
    "    weight_decay=0.01,  # Terme de régularisation pour contrôler le poids de la pénalisation dans la fonction de perte\n",
    "    evaluation_strategy=\"epoch\",  # Stratégie d'évaluation, ici \"epoch\" signifie évaluer à la fin de chaque époque\n",
    "    save_strategy=\"epoch\",  # Stratégie de sauvegarde du modèle, ici \"epoch\" signifie sauvegarder le modèle à la fin de chaque époque\n",
    "    load_best_model_at_end=True,  # Charger le meilleur modèle à la fin de l'entraînement\n",
    "    metric_for_best_model=\"accuracy\",  # Utilise une métrique pour déterminer le meilleur modèle\n",
    "    greater_is_better=True,  # Si la métrique doit être maximisée\n",
    ")"
   ]
  },
  {
   "cell_type": "code",
   "execution_count": 28,
   "id": "a77ced57",
   "metadata": {
    "execution": {
     "iopub.execute_input": "2025-04-01T13:54:51.956443Z",
     "iopub.status.busy": "2025-04-01T13:54:51.956103Z",
     "iopub.status.idle": "2025-04-01T13:54:54.570390Z",
     "shell.execute_reply": "2025-04-01T13:54:54.569440Z"
    },
    "papermill": {
     "duration": 2.634374,
     "end_time": "2025-04-01T13:54:54.572145",
     "exception": false,
     "start_time": "2025-04-01T13:54:51.937771",
     "status": "completed"
    },
    "tags": []
   },
   "outputs": [],
   "source": [
    "# Étape 6 : Entraînement du modèle avec Trainer de Transformers\n",
    "trainerfull = Trainer(\n",
    "    model=model,\n",
    "    args=training_args,\n",
    "    train_dataset=datasetb['train'],\n",
    "    eval_dataset=datasetb['test'],\n",
    "    compute_metrics=compute_metrics,  # Utiliser la fonction de calcul des métriques\n",
    "    callbacks=[EarlyStoppingCallback(early_stopping_patience=2)]  # Stop après 2 époques sans amélioration\n",
    "\n",
    ")"
   ]
  },
  {
   "cell_type": "code",
   "execution_count": 29,
   "id": "02bc255e",
   "metadata": {
    "execution": {
     "iopub.execute_input": "2025-04-01T13:54:54.594323Z",
     "iopub.status.busy": "2025-04-01T13:54:54.594047Z",
     "iopub.status.idle": "2025-04-01T13:54:54.597638Z",
     "shell.execute_reply": "2025-04-01T13:54:54.596959Z"
    },
    "papermill": {
     "duration": 0.01606,
     "end_time": "2025-04-01T13:54:54.598858",
     "exception": false,
     "start_time": "2025-04-01T13:54:54.582798",
     "status": "completed"
    },
    "tags": []
   },
   "outputs": [],
   "source": [
    "import os\n",
    "os.environ[\"WANDB_DEBUG\"] = \"true\"  # Active les logs de debug\n",
    "os.environ[\"WANDB_CONSOLE\"] = \"wrap\"  # Affiche les logs directement dans la console"
   ]
  },
  {
   "cell_type": "code",
   "execution_count": 30,
   "id": "7a87757f",
   "metadata": {
    "execution": {
     "iopub.execute_input": "2025-04-01T13:54:54.620108Z",
     "iopub.status.busy": "2025-04-01T13:54:54.619832Z",
     "iopub.status.idle": "2025-04-01T13:56:50.338921Z",
     "shell.execute_reply": "2025-04-01T13:56:50.338129Z"
    },
    "papermill": {
     "duration": 115.731158,
     "end_time": "2025-04-01T13:56:50.340230",
     "exception": false,
     "start_time": "2025-04-01T13:54:54.609072",
     "status": "completed"
    },
    "tags": []
   },
   "outputs": [
    {
     "data": {
      "text/html": [
       "\n",
       "    <div>\n",
       "      \n",
       "      <progress value='375' max='625' style='width:300px; height:20px; vertical-align: middle;'></progress>\n",
       "      [375/625 01:54 < 01:16, 3.27 it/s, Epoch 3/5]\n",
       "    </div>\n",
       "    <table border=\"1\" class=\"dataframe\">\n",
       "  <thead>\n",
       " <tr style=\"text-align: left;\">\n",
       "      <th>Epoch</th>\n",
       "      <th>Training Loss</th>\n",
       "      <th>Validation Loss</th>\n",
       "      <th>Accuracy</th>\n",
       "    </tr>\n",
       "  </thead>\n",
       "  <tbody>\n",
       "    <tr>\n",
       "      <td>1</td>\n",
       "      <td>No log</td>\n",
       "      <td>0.307767</td>\n",
       "      <td>0.885000</td>\n",
       "    </tr>\n",
       "    <tr>\n",
       "      <td>2</td>\n",
       "      <td>No log</td>\n",
       "      <td>0.407486</td>\n",
       "      <td>0.875000</td>\n",
       "    </tr>\n",
       "    <tr>\n",
       "      <td>3</td>\n",
       "      <td>No log</td>\n",
       "      <td>0.524644</td>\n",
       "      <td>0.881000</td>\n",
       "    </tr>\n",
       "  </tbody>\n",
       "</table><p>"
      ],
      "text/plain": [
       "<IPython.core.display.HTML object>"
      ]
     },
     "metadata": {},
     "output_type": "display_data"
    },
    {
     "data": {
      "text/plain": [
       "TrainOutput(global_step=375, training_loss=0.2567698771158854, metrics={'train_runtime': 115.3153, 'train_samples_per_second': 43.359, 'train_steps_per_second': 5.42, 'total_flos': 397402195968000.0, 'train_loss': 0.2567698771158854, 'epoch': 3.0})"
      ]
     },
     "execution_count": 30,
     "metadata": {},
     "output_type": "execute_result"
    }
   ],
   "source": [
    "import wandb\n",
    "\n",
    "wandb.init(mode=\"disabled\")  # Désactive WandB\n",
    "trainerfull.train()"
   ]
  },
  {
   "cell_type": "code",
   "execution_count": 31,
   "id": "b742e5ed",
   "metadata": {
    "execution": {
     "iopub.execute_input": "2025-04-01T13:56:50.363702Z",
     "iopub.status.busy": "2025-04-01T13:56:50.363325Z",
     "iopub.status.idle": "2025-04-01T13:56:51.006247Z",
     "shell.execute_reply": "2025-04-01T13:56:51.005523Z"
    },
    "papermill": {
     "duration": 0.65631,
     "end_time": "2025-04-01T13:56:51.007854",
     "exception": false,
     "start_time": "2025-04-01T13:56:50.351544",
     "status": "completed"
    },
    "tags": []
   },
   "outputs": [],
   "source": [
    "# Sauvegarde du modèle\n",
    "trainerfull.save_model(\"trainer_full\")"
   ]
  },
  {
   "cell_type": "code",
   "execution_count": 32,
   "id": "05c4b002",
   "metadata": {
    "execution": {
     "iopub.execute_input": "2025-04-01T13:56:51.031030Z",
     "iopub.status.busy": "2025-04-01T13:56:51.030708Z",
     "iopub.status.idle": "2025-04-01T13:56:51.182081Z",
     "shell.execute_reply": "2025-04-01T13:56:51.181055Z"
    },
    "papermill": {
     "duration": 0.164519,
     "end_time": "2025-04-01T13:56:51.183461",
     "exception": false,
     "start_time": "2025-04-01T13:56:51.018942",
     "status": "completed"
    },
    "tags": []
   },
   "outputs": [
    {
     "name": "stdout",
     "output_type": "stream",
     "text": [
      "Prédictions du modèle entraîné :\n",
      "---------------------------------\n",
      "this movie was a masterpiece - Positif\n",
      "i was blown away by the acting - Négatif\n",
      "it is a classic that everyone should watch - Positif\n",
      "the plot was confusing and hard to follow - Négatif\n",
      "the special effects were topnotch - Positif\n",
      "i could not stop laughing throughout the movie - Négatif\n",
      "the soundtrack was incredible - Positif\n",
      "it is a total waste of time - Négatif\n",
      "i am still thinking about that ending - Positif\n",
      "i would not recommend it to anyone - Négatif\n"
     ]
    }
   ],
   "source": [
    "# Déterminer automatiquement l'appareil disponible\n",
    "device = \"cuda\" if torch.cuda.is_available() else \"cpu\"\n",
    "\n",
    "# Passer le modèle sur l'appareil approprié\n",
    "model.to(device)\n",
    "\n",
    "# Afficher les prédictions du modèle entraîné\n",
    "print(\"Prédictions du modèle entraîné :\")\n",
    "print(\"---------------------------------\")\n",
    "\n",
    "label = []\n",
    "# Parcourir la liste des textes à prédire\n",
    "for texte in liste_texte:\n",
    "    # Tokenizer le texte\n",
    "    inputs = tokenizer.encode(texte, return_tensors=\"pt\").to(device)  # Utiliser 'cuda' si dispo, sinon 'cpu'\n",
    "\n",
    "    # Obtenir les logits du modèle pour le texte\n",
    "    logits = model(inputs).logits\n",
    "\n",
    "    # Prédire la classe en choisissant l'indice du logit le plus élevé\n",
    "    predictions = torch.max(logits, 1).indices\n",
    "\n",
    "    label.append(id2label[predictions.item()])\n",
    "\n",
    "    # Afficher le texte et l'étiquette prédite\n",
    "    print(texte + \" - \" + id2label[predictions.tolist()[0]])\n"
   ]
  },
  {
   "cell_type": "code",
   "execution_count": 33,
   "id": "2ab76270",
   "metadata": {
    "execution": {
     "iopub.execute_input": "2025-04-01T13:56:51.208591Z",
     "iopub.status.busy": "2025-04-01T13:56:51.208269Z",
     "iopub.status.idle": "2025-04-01T13:56:51.212387Z",
     "shell.execute_reply": "2025-04-01T13:56:51.211651Z"
    },
    "papermill": {
     "duration": 0.019183,
     "end_time": "2025-04-01T13:56:51.213597",
     "exception": false,
     "start_time": "2025-04-01T13:56:51.194414",
     "status": "completed"
    },
    "tags": []
   },
   "outputs": [],
   "source": [
    "# Add label to the fully fine-tuned model to compare it with the model without fine-tuning\n",
    "data['label_full_finetuning'] = label"
   ]
  },
  {
   "cell_type": "code",
   "execution_count": 34,
   "id": "74e41638",
   "metadata": {
    "execution": {
     "iopub.execute_input": "2025-04-01T13:56:51.236375Z",
     "iopub.status.busy": "2025-04-01T13:56:51.236095Z",
     "iopub.status.idle": "2025-04-01T13:56:51.244815Z",
     "shell.execute_reply": "2025-04-01T13:56:51.244049Z"
    },
    "papermill": {
     "duration": 0.02148,
     "end_time": "2025-04-01T13:56:51.246047",
     "exception": false,
     "start_time": "2025-04-01T13:56:51.224567",
     "status": "completed"
    },
    "tags": []
   },
   "outputs": [
    {
     "data": {
      "text/html": [
       "<div>\n",
       "<style scoped>\n",
       "    .dataframe tbody tr th:only-of-type {\n",
       "        vertical-align: middle;\n",
       "    }\n",
       "\n",
       "    .dataframe tbody tr th {\n",
       "        vertical-align: top;\n",
       "    }\n",
       "\n",
       "    .dataframe thead th {\n",
       "        text-align: right;\n",
       "    }\n",
       "</style>\n",
       "<table border=\"1\" class=\"dataframe\">\n",
       "  <thead>\n",
       "    <tr style=\"text-align: right;\">\n",
       "      <th></th>\n",
       "      <th>text</th>\n",
       "      <th>label</th>\n",
       "      <th>label_full_finetuning</th>\n",
       "    </tr>\n",
       "  </thead>\n",
       "  <tbody>\n",
       "    <tr>\n",
       "      <th>0</th>\n",
       "      <td>this movie was a masterpiece</td>\n",
       "      <td>Positif</td>\n",
       "      <td>Positif</td>\n",
       "    </tr>\n",
       "    <tr>\n",
       "      <th>1</th>\n",
       "      <td>i was blown away by the acting</td>\n",
       "      <td>Positif</td>\n",
       "      <td>Négatif</td>\n",
       "    </tr>\n",
       "    <tr>\n",
       "      <th>2</th>\n",
       "      <td>it is a classic that everyone should watch</td>\n",
       "      <td>Positif</td>\n",
       "      <td>Positif</td>\n",
       "    </tr>\n",
       "    <tr>\n",
       "      <th>3</th>\n",
       "      <td>the plot was confusing and hard to follow</td>\n",
       "      <td>Positif</td>\n",
       "      <td>Négatif</td>\n",
       "    </tr>\n",
       "    <tr>\n",
       "      <th>4</th>\n",
       "      <td>the special effects were topnotch</td>\n",
       "      <td>Positif</td>\n",
       "      <td>Positif</td>\n",
       "    </tr>\n",
       "    <tr>\n",
       "      <th>5</th>\n",
       "      <td>i could not stop laughing throughout the movie</td>\n",
       "      <td>Positif</td>\n",
       "      <td>Négatif</td>\n",
       "    </tr>\n",
       "    <tr>\n",
       "      <th>6</th>\n",
       "      <td>the soundtrack was incredible</td>\n",
       "      <td>Positif</td>\n",
       "      <td>Positif</td>\n",
       "    </tr>\n",
       "    <tr>\n",
       "      <th>7</th>\n",
       "      <td>it is a total waste of time</td>\n",
       "      <td>Positif</td>\n",
       "      <td>Négatif</td>\n",
       "    </tr>\n",
       "    <tr>\n",
       "      <th>8</th>\n",
       "      <td>i am still thinking about that ending</td>\n",
       "      <td>Positif</td>\n",
       "      <td>Positif</td>\n",
       "    </tr>\n",
       "    <tr>\n",
       "      <th>9</th>\n",
       "      <td>i would not recommend it to anyone</td>\n",
       "      <td>Positif</td>\n",
       "      <td>Négatif</td>\n",
       "    </tr>\n",
       "  </tbody>\n",
       "</table>\n",
       "</div>"
      ],
      "text/plain": [
       "                                             text    label  \\\n",
       "0                    this movie was a masterpiece  Positif   \n",
       "1                  i was blown away by the acting  Positif   \n",
       "2      it is a classic that everyone should watch  Positif   \n",
       "3       the plot was confusing and hard to follow  Positif   \n",
       "4               the special effects were topnotch  Positif   \n",
       "5  i could not stop laughing throughout the movie  Positif   \n",
       "6                   the soundtrack was incredible  Positif   \n",
       "7                     it is a total waste of time  Positif   \n",
       "8           i am still thinking about that ending  Positif   \n",
       "9              i would not recommend it to anyone  Positif   \n",
       "\n",
       "  label_full_finetuning  \n",
       "0               Positif  \n",
       "1               Négatif  \n",
       "2               Positif  \n",
       "3               Négatif  \n",
       "4               Positif  \n",
       "5               Négatif  \n",
       "6               Positif  \n",
       "7               Négatif  \n",
       "8               Positif  \n",
       "9               Négatif  "
      ]
     },
     "execution_count": 34,
     "metadata": {},
     "output_type": "execute_result"
    }
   ],
   "source": [
    "data.head(10)"
   ]
  },
  {
   "cell_type": "code",
   "execution_count": null,
   "id": "7b9778be",
   "metadata": {
    "papermill": {
     "duration": 0.010702,
     "end_time": "2025-04-01T13:56:51.267821",
     "exception": false,
     "start_time": "2025-04-01T13:56:51.257119",
     "status": "completed"
    },
    "tags": []
   },
   "outputs": [],
   "source": []
  },
  {
   "cell_type": "markdown",
   "id": "b4cb1088",
   "metadata": {
    "papermill": {
     "duration": 0.010515,
     "end_time": "2025-04-01T13:56:51.289246",
     "exception": false,
     "start_time": "2025-04-01T13:56:51.278731",
     "status": "completed"
    },
    "tags": []
   },
   "source": [
    "# **Layer freezing finetuning**"
   ]
  },
  {
   "cell_type": "code",
   "execution_count": 35,
   "id": "a214febe",
   "metadata": {
    "execution": {
     "iopub.execute_input": "2025-04-01T13:56:51.312085Z",
     "iopub.status.busy": "2025-04-01T13:56:51.311775Z",
     "iopub.status.idle": "2025-04-01T13:57:01.563982Z",
     "shell.execute_reply": "2025-04-01T13:57:01.563009Z"
    },
    "papermill": {
     "duration": 10.26569,
     "end_time": "2025-04-01T13:57:01.565684",
     "exception": false,
     "start_time": "2025-04-01T13:56:51.299994",
     "status": "completed"
    },
    "tags": []
   },
   "outputs": [],
   "source": [
    "# Charger le tokenizer et le modèle pré-entraîné\n",
    "tokenizer = DistilBertTokenizer.from_pretrained(\"distilbert-base-uncased\")\n",
    "train_encodings = tokenizer(train_dataset['clean_text'], truncation=True, padding=True, return_tensors='pt')\n",
    "test_encodings = tokenizer(test_dataset['clean_text'], truncation=True, padding=True, return_tensors='pt')"
   ]
  },
  {
   "cell_type": "code",
   "execution_count": 36,
   "id": "5aac91b1",
   "metadata": {
    "execution": {
     "iopub.execute_input": "2025-04-01T13:57:01.589503Z",
     "iopub.status.busy": "2025-04-01T13:57:01.589168Z",
     "iopub.status.idle": "2025-04-01T13:57:01.682151Z",
     "shell.execute_reply": "2025-04-01T13:57:01.681172Z"
    },
    "papermill": {
     "duration": 0.106852,
     "end_time": "2025-04-01T13:57:01.683812",
     "exception": false,
     "start_time": "2025-04-01T13:57:01.576960",
     "status": "completed"
    },
    "tags": []
   },
   "outputs": [],
   "source": [
    "train_datasetb = Dataset.from_dict({\n",
    "    'input_ids': train_encodings['input_ids'],\n",
    "    'attention_mask': train_encodings['attention_mask'],\n",
    "    'labels': torch.tensor(train_dataset['label'])\n",
    "})\n",
    "\n",
    "test_datasetb = Dataset.from_dict({\n",
    "    'input_ids': test_encodings['input_ids'],\n",
    "    'attention_mask': test_encodings['attention_mask'],\n",
    "    'labels': torch.tensor(test_dataset['label'])\n",
    "})"
   ]
  },
  {
   "cell_type": "code",
   "execution_count": 37,
   "id": "9ace2055",
   "metadata": {
    "execution": {
     "iopub.execute_input": "2025-04-01T13:57:01.707731Z",
     "iopub.status.busy": "2025-04-01T13:57:01.707372Z",
     "iopub.status.idle": "2025-04-01T13:57:01.905022Z",
     "shell.execute_reply": "2025-04-01T13:57:01.904343Z"
    },
    "papermill": {
     "duration": 0.211139,
     "end_time": "2025-04-01T13:57:01.906245",
     "exception": false,
     "start_time": "2025-04-01T13:57:01.695106",
     "status": "completed"
    },
    "tags": []
   },
   "outputs": [
    {
     "name": "stderr",
     "output_type": "stream",
     "text": [
      "Some weights of DistilBertForSequenceClassification were not initialized from the model checkpoint at distilbert-base-uncased and are newly initialized: ['classifier.bias', 'classifier.weight', 'pre_classifier.bias', 'pre_classifier.weight']\n",
      "You should probably TRAIN this model on a down-stream task to be able to use it for predictions and inference.\n"
     ]
    }
   ],
   "source": [
    "# Modèle DistilBERT pour la classification de séquences\n",
    "modelf = DistilBertForSequenceClassification.from_pretrained(\"distilbert-base-uncased\", num_labels=2)"
   ]
  },
  {
   "cell_type": "code",
   "execution_count": 38,
   "id": "e98bd696",
   "metadata": {
    "execution": {
     "iopub.execute_input": "2025-04-01T13:57:01.929492Z",
     "iopub.status.busy": "2025-04-01T13:57:01.929158Z",
     "iopub.status.idle": "2025-04-01T13:57:01.933288Z",
     "shell.execute_reply": "2025-04-01T13:57:01.932434Z"
    },
    "papermill": {
     "duration": 0.01701,
     "end_time": "2025-04-01T13:57:01.934498",
     "exception": false,
     "start_time": "2025-04-01T13:57:01.917488",
     "status": "completed"
    },
    "tags": []
   },
   "outputs": [],
   "source": [
    "# Geler certaines couches du modèle\n",
    "for param in modelf.base_model.parameters():\n",
    "    param.requires_grad = False"
   ]
  },
  {
   "cell_type": "code",
   "execution_count": 39,
   "id": "33100e8f",
   "metadata": {
    "execution": {
     "iopub.execute_input": "2025-04-01T13:57:01.958141Z",
     "iopub.status.busy": "2025-04-01T13:57:01.957826Z",
     "iopub.status.idle": "2025-04-01T13:57:01.987279Z",
     "shell.execute_reply": "2025-04-01T13:57:01.986382Z"
    },
    "papermill": {
     "duration": 0.042876,
     "end_time": "2025-04-01T13:57:01.988882",
     "exception": false,
     "start_time": "2025-04-01T13:57:01.946006",
     "status": "completed"
    },
    "tags": []
   },
   "outputs": [
    {
     "name": "stderr",
     "output_type": "stream",
     "text": [
      "/usr/local/lib/python3.10/dist-packages/transformers/training_args.py:1575: FutureWarning: `evaluation_strategy` is deprecated and will be removed in version 4.46 of 🤗 Transformers. Use `eval_strategy` instead\n",
      "  warnings.warn(\n"
     ]
    }
   ],
   "source": [
    "# Définir les arguments d'entraînement pour le Trainer de Hugging Face\n",
    "training_args = TrainingArguments(\n",
    "    # Répertoire où les résultats d'entraînement (modèles, configurations, etc.) seront sauvegardés.\n",
    "    output_dir=\"./freezdistilbert_finetuned\",\n",
    "\n",
    "    # Nombre d'exemples par lot (batch) pour l'entraînement, défini pour chaque périphérique (GPU/CPU).\n",
    "    per_device_train_batch_size=8,\n",
    "\n",
    "    # Nombre d'exemples par lot pour l'évaluation, défini pour chaque périphérique.\n",
    "    per_device_eval_batch_size=8,\n",
    "\n",
    "    # Stratégie d'évaluation à utiliser. Ici, \"steps\" signifie que l'évaluation aura lieu à intervalles réguliers de pas d'entraînement.\n",
    "    evaluation_strategy=\"steps\",\n",
    "\n",
    "    # Nombre de pas d'entraînement à effectuer avant de réaliser une évaluation.\n",
    "    eval_steps=100,\n",
    "\n",
    "    # Nombre de pas d'entraînement après lesquels le modèle sera sauvegardé.\n",
    "    save_steps=100,\n",
    "\n",
    "    # Nombre total d'époques d'entraînement à réaliser.\n",
    "    num_train_epochs=5,\n",
    "\n",
    "    # Taux d'apprentissage initial à utiliser pour l'optimiseur.\n",
    "    learning_rate=2e-5,\n",
    "\n",
    "    # Limite du nombre total de sauvegardes de checkpoints à conserver. \n",
    "    # Ici, seul le checkpoint le plus récent sera conservé.\n",
    "    save_total_limit=1\n",
    ")"
   ]
  },
  {
   "cell_type": "code",
   "execution_count": 40,
   "id": "2ef6acc1",
   "metadata": {
    "execution": {
     "iopub.execute_input": "2025-04-01T13:57:02.012010Z",
     "iopub.status.busy": "2025-04-01T13:57:02.011676Z",
     "iopub.status.idle": "2025-04-01T13:57:02.503675Z",
     "shell.execute_reply": "2025-04-01T13:57:02.502934Z"
    },
    "papermill": {
     "duration": 0.505139,
     "end_time": "2025-04-01T13:57:02.505158",
     "exception": false,
     "start_time": "2025-04-01T13:57:02.000019",
     "status": "completed"
    },
    "tags": []
   },
   "outputs": [],
   "source": [
    "# Importer la métrique d'exactitude pour l'évaluation\n",
    "\n",
    "accuracy = evaluate.load(\"accuracy\")"
   ]
  },
  {
   "cell_type": "code",
   "execution_count": 41,
   "id": "207e739c",
   "metadata": {
    "execution": {
     "iopub.execute_input": "2025-04-01T13:57:02.528300Z",
     "iopub.status.busy": "2025-04-01T13:57:02.528017Z",
     "iopub.status.idle": "2025-04-01T13:57:02.531981Z",
     "shell.execute_reply": "2025-04-01T13:57:02.531131Z"
    },
    "papermill": {
     "duration": 0.01702,
     "end_time": "2025-04-01T13:57:02.533327",
     "exception": false,
     "start_time": "2025-04-01T13:57:02.516307",
     "status": "completed"
    },
    "tags": []
   },
   "outputs": [],
   "source": [
    "# Fonction pour calculer l'exactitude\n",
    "def compute_metrics(p):\n",
    "    predictions, labels = p\n",
    "    predictions = np.argmax(predictions, axis=1)\n",
    "    \n",
    "    # Calcul de l'exactitude\n",
    "    accuracy = np.mean(predictions == labels)\n",
    "\n",
    "    return {\"accuracy\": accuracy}"
   ]
  },
  {
   "cell_type": "code",
   "execution_count": 42,
   "id": "2cde2728",
   "metadata": {
    "execution": {
     "iopub.execute_input": "2025-04-01T13:57:02.556439Z",
     "iopub.status.busy": "2025-04-01T13:57:02.556164Z",
     "iopub.status.idle": "2025-04-01T13:57:02.689348Z",
     "shell.execute_reply": "2025-04-01T13:57:02.688637Z"
    },
    "papermill": {
     "duration": 0.146746,
     "end_time": "2025-04-01T13:57:02.690943",
     "exception": false,
     "start_time": "2025-04-01T13:57:02.544197",
     "status": "completed"
    },
    "tags": []
   },
   "outputs": [],
   "source": [
    "from transformers import DataCollatorWithPadding  # Assurez-vous d'avoir cette ligne d'importation\n",
    "\n",
    "\n",
    "# Créer un Trainer\n",
    "trainerfreezing = Trainer(\n",
    "    model=modelf,  # Utilisez le modèle DistilBERT que vous avez défini précédemment\n",
    "    args=training_args,  # Les paramètres d'entraînement définis précédemment\n",
    "    data_collator=DataCollatorWithPadding(tokenizer=tokenizer),  # Gère le padding des données lors de l'entraînement\n",
    "    compute_metrics=compute_metrics,  # Fonction pour calculer les métriques d'évaluation\n",
    "    train_dataset=train_datasetb,  # L'ensemble de données d'entraînement\n",
    "    eval_dataset=test_datasetb  # L'ensemble de données d'évaluation\n",
    ")"
   ]
  },
  {
   "cell_type": "code",
   "execution_count": 43,
   "id": "a1ada329",
   "metadata": {
    "execution": {
     "iopub.execute_input": "2025-04-01T13:57:02.714445Z",
     "iopub.status.busy": "2025-04-01T13:57:02.714138Z",
     "iopub.status.idle": "2025-04-01T13:58:41.194499Z",
     "shell.execute_reply": "2025-04-01T13:58:41.193585Z"
    },
    "papermill": {
     "duration": 98.493534,
     "end_time": "2025-04-01T13:58:41.195812",
     "exception": false,
     "start_time": "2025-04-01T13:57:02.702278",
     "status": "completed"
    },
    "tags": []
   },
   "outputs": [
    {
     "name": "stderr",
     "output_type": "stream",
     "text": [
      "\u001b[34m\u001b[1mwandb\u001b[0m: \u001b[33mWARNING\u001b[0m The `run_name` is currently set to the same value as `TrainingArguments.output_dir`. If this was not intended, please specify a different run name by setting the `TrainingArguments.run_name` parameter.\n"
     ]
    },
    {
     "data": {
      "text/html": [
       "\n",
       "    <div>\n",
       "      \n",
       "      <progress value='625' max='625' style='width:300px; height:20px; vertical-align: middle;'></progress>\n",
       "      [625/625 01:37, Epoch 5/5]\n",
       "    </div>\n",
       "    <table border=\"1\" class=\"dataframe\">\n",
       "  <thead>\n",
       " <tr style=\"text-align: left;\">\n",
       "      <th>Step</th>\n",
       "      <th>Training Loss</th>\n",
       "      <th>Validation Loss</th>\n",
       "      <th>Accuracy</th>\n",
       "    </tr>\n",
       "  </thead>\n",
       "  <tbody>\n",
       "    <tr>\n",
       "      <td>100</td>\n",
       "      <td>No log</td>\n",
       "      <td>0.672690</td>\n",
       "      <td>0.676000</td>\n",
       "    </tr>\n",
       "    <tr>\n",
       "      <td>200</td>\n",
       "      <td>No log</td>\n",
       "      <td>0.651440</td>\n",
       "      <td>0.753000</td>\n",
       "    </tr>\n",
       "    <tr>\n",
       "      <td>300</td>\n",
       "      <td>No log</td>\n",
       "      <td>0.638345</td>\n",
       "      <td>0.758000</td>\n",
       "    </tr>\n",
       "    <tr>\n",
       "      <td>400</td>\n",
       "      <td>No log</td>\n",
       "      <td>0.629243</td>\n",
       "      <td>0.759000</td>\n",
       "    </tr>\n",
       "    <tr>\n",
       "      <td>500</td>\n",
       "      <td>0.649600</td>\n",
       "      <td>0.622893</td>\n",
       "      <td>0.763000</td>\n",
       "    </tr>\n",
       "    <tr>\n",
       "      <td>600</td>\n",
       "      <td>0.649600</td>\n",
       "      <td>0.620810</td>\n",
       "      <td>0.758000</td>\n",
       "    </tr>\n",
       "  </tbody>\n",
       "</table><p>"
      ],
      "text/plain": [
       "<IPython.core.display.HTML object>"
      ]
     },
     "metadata": {},
     "output_type": "display_data"
    },
    {
     "data": {
      "text/plain": [
       "TrainOutput(global_step=625, training_loss=0.6431162475585938, metrics={'train_runtime': 98.0366, 'train_samples_per_second': 51.001, 'train_steps_per_second': 6.375, 'total_flos': 662336993280000.0, 'train_loss': 0.6431162475585938, 'epoch': 5.0})"
      ]
     },
     "execution_count": 43,
     "metadata": {},
     "output_type": "execute_result"
    }
   ],
   "source": [
    "# Entraîner le modèle\n",
    "trainerfreezing.train()"
   ]
  },
  {
   "cell_type": "code",
   "execution_count": 44,
   "id": "3a81950c",
   "metadata": {
    "execution": {
     "iopub.execute_input": "2025-04-01T13:58:41.219349Z",
     "iopub.status.busy": "2025-04-01T13:58:41.219038Z",
     "iopub.status.idle": "2025-04-01T13:58:41.278475Z",
     "shell.execute_reply": "2025-04-01T13:58:41.277535Z"
    },
    "papermill": {
     "duration": 0.072669,
     "end_time": "2025-04-01T13:58:41.279924",
     "exception": false,
     "start_time": "2025-04-01T13:58:41.207255",
     "status": "completed"
    },
    "tags": []
   },
   "outputs": [
    {
     "name": "stdout",
     "output_type": "stream",
     "text": [
      "Prédictions du modèle entraîné :\n",
      "---------------------------------\n",
      "this movie was a masterpiece - Positif\n",
      "i was blown away by the acting - Positif\n",
      "it is a classic that everyone should watch - Positif\n",
      "the plot was confusing and hard to follow - Positif\n",
      "the special effects were topnotch - Positif\n",
      "i could not stop laughing throughout the movie - Positif\n",
      "the soundtrack was incredible - Positif\n",
      "it is a total waste of time - Négatif\n",
      "i am still thinking about that ending - Positif\n",
      "i would not recommend it to anyone - Positif\n"
     ]
    }
   ],
   "source": [
    "# Déterminer automatiquement l'appareil disponible\n",
    "device = \"cuda\" if torch.cuda.is_available() else \"cpu\"\n",
    "\n",
    "# Passer le modèle sur l'appareil approprié\n",
    "model.to(device)\n",
    "\n",
    "# Afficher les prédictions du modèle entraîné\n",
    "print(\"Prédictions du modèle entraîné :\")\n",
    "print(\"---------------------------------\")\n",
    "\n",
    "label = []\n",
    "# Parcourir la liste des textes à prédire\n",
    "for texte in liste_texte:\n",
    "    # Tokenizer le texte\n",
    "    inputs = tokenizer.encode(texte, return_tensors=\"pt\").to(device)  # Utiliser 'cuda' si dispo, sinon 'cpu'\n",
    "\n",
    "    # Obtenir les logits du modèle pour le texte\n",
    "    logits = modelf(inputs).logits\n",
    "\n",
    "    # Prédire la classe en choisissant l'indice du logit le plus élevé\n",
    "    predictions = torch.max(logits, 1).indices\n",
    "\n",
    "    label.append(id2label[predictions.item()])\n",
    "\n",
    "    # Afficher le texte et l'étiquette prédite\n",
    "    print(texte + \" - \" + id2label[predictions.tolist()[0]])\n"
   ]
  },
  {
   "cell_type": "code",
   "execution_count": 45,
   "id": "f76960ce",
   "metadata": {
    "execution": {
     "iopub.execute_input": "2025-04-01T13:58:41.303405Z",
     "iopub.status.busy": "2025-04-01T13:58:41.303133Z",
     "iopub.status.idle": "2025-04-01T13:58:41.307100Z",
     "shell.execute_reply": "2025-04-01T13:58:41.306437Z"
    },
    "papermill": {
     "duration": 0.017108,
     "end_time": "2025-04-01T13:58:41.308308",
     "exception": false,
     "start_time": "2025-04-01T13:58:41.291200",
     "status": "completed"
    },
    "tags": []
   },
   "outputs": [],
   "source": [
    "data['label_model_freezing'] = label"
   ]
  },
  {
   "cell_type": "code",
   "execution_count": 46,
   "id": "b8e744fd",
   "metadata": {
    "execution": {
     "iopub.execute_input": "2025-04-01T13:58:41.331108Z",
     "iopub.status.busy": "2025-04-01T13:58:41.330849Z",
     "iopub.status.idle": "2025-04-01T13:58:41.339926Z",
     "shell.execute_reply": "2025-04-01T13:58:41.339052Z"
    },
    "papermill": {
     "duration": 0.021897,
     "end_time": "2025-04-01T13:58:41.341223",
     "exception": false,
     "start_time": "2025-04-01T13:58:41.319326",
     "status": "completed"
    },
    "tags": []
   },
   "outputs": [
    {
     "data": {
      "text/html": [
       "<div>\n",
       "<style scoped>\n",
       "    .dataframe tbody tr th:only-of-type {\n",
       "        vertical-align: middle;\n",
       "    }\n",
       "\n",
       "    .dataframe tbody tr th {\n",
       "        vertical-align: top;\n",
       "    }\n",
       "\n",
       "    .dataframe thead th {\n",
       "        text-align: right;\n",
       "    }\n",
       "</style>\n",
       "<table border=\"1\" class=\"dataframe\">\n",
       "  <thead>\n",
       "    <tr style=\"text-align: right;\">\n",
       "      <th></th>\n",
       "      <th>text</th>\n",
       "      <th>label</th>\n",
       "      <th>label_full_finetuning</th>\n",
       "      <th>label_model_freezing</th>\n",
       "    </tr>\n",
       "  </thead>\n",
       "  <tbody>\n",
       "    <tr>\n",
       "      <th>0</th>\n",
       "      <td>this movie was a masterpiece</td>\n",
       "      <td>Positif</td>\n",
       "      <td>Positif</td>\n",
       "      <td>Positif</td>\n",
       "    </tr>\n",
       "    <tr>\n",
       "      <th>1</th>\n",
       "      <td>i was blown away by the acting</td>\n",
       "      <td>Positif</td>\n",
       "      <td>Négatif</td>\n",
       "      <td>Positif</td>\n",
       "    </tr>\n",
       "    <tr>\n",
       "      <th>2</th>\n",
       "      <td>it is a classic that everyone should watch</td>\n",
       "      <td>Positif</td>\n",
       "      <td>Positif</td>\n",
       "      <td>Positif</td>\n",
       "    </tr>\n",
       "    <tr>\n",
       "      <th>3</th>\n",
       "      <td>the plot was confusing and hard to follow</td>\n",
       "      <td>Positif</td>\n",
       "      <td>Négatif</td>\n",
       "      <td>Positif</td>\n",
       "    </tr>\n",
       "    <tr>\n",
       "      <th>4</th>\n",
       "      <td>the special effects were topnotch</td>\n",
       "      <td>Positif</td>\n",
       "      <td>Positif</td>\n",
       "      <td>Positif</td>\n",
       "    </tr>\n",
       "    <tr>\n",
       "      <th>5</th>\n",
       "      <td>i could not stop laughing throughout the movie</td>\n",
       "      <td>Positif</td>\n",
       "      <td>Négatif</td>\n",
       "      <td>Positif</td>\n",
       "    </tr>\n",
       "    <tr>\n",
       "      <th>6</th>\n",
       "      <td>the soundtrack was incredible</td>\n",
       "      <td>Positif</td>\n",
       "      <td>Positif</td>\n",
       "      <td>Positif</td>\n",
       "    </tr>\n",
       "    <tr>\n",
       "      <th>7</th>\n",
       "      <td>it is a total waste of time</td>\n",
       "      <td>Positif</td>\n",
       "      <td>Négatif</td>\n",
       "      <td>Négatif</td>\n",
       "    </tr>\n",
       "    <tr>\n",
       "      <th>8</th>\n",
       "      <td>i am still thinking about that ending</td>\n",
       "      <td>Positif</td>\n",
       "      <td>Positif</td>\n",
       "      <td>Positif</td>\n",
       "    </tr>\n",
       "    <tr>\n",
       "      <th>9</th>\n",
       "      <td>i would not recommend it to anyone</td>\n",
       "      <td>Positif</td>\n",
       "      <td>Négatif</td>\n",
       "      <td>Positif</td>\n",
       "    </tr>\n",
       "  </tbody>\n",
       "</table>\n",
       "</div>"
      ],
      "text/plain": [
       "                                             text    label  \\\n",
       "0                    this movie was a masterpiece  Positif   \n",
       "1                  i was blown away by the acting  Positif   \n",
       "2      it is a classic that everyone should watch  Positif   \n",
       "3       the plot was confusing and hard to follow  Positif   \n",
       "4               the special effects were topnotch  Positif   \n",
       "5  i could not stop laughing throughout the movie  Positif   \n",
       "6                   the soundtrack was incredible  Positif   \n",
       "7                     it is a total waste of time  Positif   \n",
       "8           i am still thinking about that ending  Positif   \n",
       "9              i would not recommend it to anyone  Positif   \n",
       "\n",
       "  label_full_finetuning label_model_freezing  \n",
       "0               Positif              Positif  \n",
       "1               Négatif              Positif  \n",
       "2               Positif              Positif  \n",
       "3               Négatif              Positif  \n",
       "4               Positif              Positif  \n",
       "5               Négatif              Positif  \n",
       "6               Positif              Positif  \n",
       "7               Négatif              Négatif  \n",
       "8               Positif              Positif  \n",
       "9               Négatif              Positif  "
      ]
     },
     "execution_count": 46,
     "metadata": {},
     "output_type": "execute_result"
    }
   ],
   "source": [
    "data.head(10)"
   ]
  },
  {
   "cell_type": "code",
   "execution_count": null,
   "id": "a5a4e18b",
   "metadata": {
    "papermill": {
     "duration": 0.011207,
     "end_time": "2025-04-01T13:58:41.364316",
     "exception": false,
     "start_time": "2025-04-01T13:58:41.353109",
     "status": "completed"
    },
    "tags": []
   },
   "outputs": [],
   "source": []
  }
 ],
 "metadata": {
  "kaggle": {
   "accelerator": "gpu",
   "dataSources": [
    {
     "datasetId": 7011573,
     "sourceId": 11226141,
     "sourceType": "datasetVersion"
    }
   ],
   "isGpuEnabled": true,
   "isInternetEnabled": true,
   "language": "python",
   "sourceType": "notebook"
  },
  "kernelspec": {
   "display_name": "Python 3",
   "language": "python",
   "name": "python3"
  },
  "language_info": {
   "codemirror_mode": {
    "name": "ipython",
    "version": 3
   },
   "file_extension": ".py",
   "mimetype": "text/x-python",
   "name": "python",
   "nbconvert_exporter": "python",
   "pygments_lexer": "ipython3",
   "version": "3.10.12"
  },
  "papermill": {
   "default_parameters": {},
   "duration": 316.948174,
   "end_time": "2025-04-01T13:58:44.610295",
   "environment_variables": {},
   "exception": null,
   "input_path": "__notebook__.ipynb",
   "output_path": "__notebook__.ipynb",
   "parameters": {},
   "start_time": "2025-04-01T13:53:27.662121",
   "version": "2.6.0"
  },
  "widgets": {
   "application/vnd.jupyter.widget-state+json": {
    "state": {
     "0340feb4ca264ea1b61b2949a2b19a67": {
      "model_module": "@jupyter-widgets/controls",
      "model_module_version": "2.0.0",
      "model_name": "HTMLModel",
      "state": {
       "_dom_classes": [],
       "_model_module": "@jupyter-widgets/controls",
       "_model_module_version": "2.0.0",
       "_model_name": "HTMLModel",
       "_view_count": null,
       "_view_module": "@jupyter-widgets/controls",
       "_view_module_version": "2.0.0",
       "_view_name": "HTMLView",
       "description": "",
       "description_allow_html": false,
       "layout": "IPY_MODEL_ab8facfee4c64c8896767401d9ed0090",
       "placeholder": "​",
       "style": "IPY_MODEL_5b0893f0652641dd97dbc904ff5e6e73",
       "tabbable": null,
       "tooltip": null,
       "value": " 466k/466k [00:00&lt;00:00, 35.2MB/s]"
      }
     },
     "0425b6ac60a14b18b7d7964b27ea355e": {
      "model_module": "@jupyter-widgets/base",
      "model_module_version": "2.0.0",
      "model_name": "LayoutModel",
      "state": {
       "_model_module": "@jupyter-widgets/base",
       "_model_module_version": "2.0.0",
       "_model_name": "LayoutModel",
       "_view_count": null,
       "_view_module": "@jupyter-widgets/base",
       "_view_module_version": "2.0.0",
       "_view_name": "LayoutView",
       "align_content": null,
       "align_items": null,
       "align_self": null,
       "border_bottom": null,
       "border_left": null,
       "border_right": null,
       "border_top": null,
       "bottom": null,
       "display": null,
       "flex": null,
       "flex_flow": null,
       "grid_area": null,
       "grid_auto_columns": null,
       "grid_auto_flow": null,
       "grid_auto_rows": null,
       "grid_column": null,
       "grid_gap": null,
       "grid_row": null,
       "grid_template_areas": null,
       "grid_template_columns": null,
       "grid_template_rows": null,
       "height": null,
       "justify_content": null,
       "justify_items": null,
       "left": null,
       "margin": null,
       "max_height": null,
       "max_width": null,
       "min_height": null,
       "min_width": null,
       "object_fit": null,
       "object_position": null,
       "order": null,
       "overflow": null,
       "padding": null,
       "right": null,
       "top": null,
       "visibility": null,
       "width": null
      }
     },
     "054ff3b61d8a4596b48170c0bb8fb29c": {
      "model_module": "@jupyter-widgets/base",
      "model_module_version": "2.0.0",
      "model_name": "LayoutModel",
      "state": {
       "_model_module": "@jupyter-widgets/base",
       "_model_module_version": "2.0.0",
       "_model_name": "LayoutModel",
       "_view_count": null,
       "_view_module": "@jupyter-widgets/base",
       "_view_module_version": "2.0.0",
       "_view_name": "LayoutView",
       "align_content": null,
       "align_items": null,
       "align_self": null,
       "border_bottom": null,
       "border_left": null,
       "border_right": null,
       "border_top": null,
       "bottom": null,
       "display": null,
       "flex": null,
       "flex_flow": null,
       "grid_area": null,
       "grid_auto_columns": null,
       "grid_auto_flow": null,
       "grid_auto_rows": null,
       "grid_column": null,
       "grid_gap": null,
       "grid_row": null,
       "grid_template_areas": null,
       "grid_template_columns": null,
       "grid_template_rows": null,
       "height": null,
       "justify_content": null,
       "justify_items": null,
       "left": null,
       "margin": null,
       "max_height": null,
       "max_width": null,
       "min_height": null,
       "min_width": null,
       "object_fit": null,
       "object_position": null,
       "order": null,
       "overflow": null,
       "padding": null,
       "right": null,
       "top": null,
       "visibility": null,
       "width": null
      }
     },
     "06890a25da314940a93c875da734d94b": {
      "model_module": "@jupyter-widgets/base",
      "model_module_version": "2.0.0",
      "model_name": "LayoutModel",
      "state": {
       "_model_module": "@jupyter-widgets/base",
       "_model_module_version": "2.0.0",
       "_model_name": "LayoutModel",
       "_view_count": null,
       "_view_module": "@jupyter-widgets/base",
       "_view_module_version": "2.0.0",
       "_view_name": "LayoutView",
       "align_content": null,
       "align_items": null,
       "align_self": null,
       "border_bottom": null,
       "border_left": null,
       "border_right": null,
       "border_top": null,
       "bottom": null,
       "display": null,
       "flex": null,
       "flex_flow": null,
       "grid_area": null,
       "grid_auto_columns": null,
       "grid_auto_flow": null,
       "grid_auto_rows": null,
       "grid_column": null,
       "grid_gap": null,
       "grid_row": null,
       "grid_template_areas": null,
       "grid_template_columns": null,
       "grid_template_rows": null,
       "height": null,
       "justify_content": null,
       "justify_items": null,
       "left": null,
       "margin": null,
       "max_height": null,
       "max_width": null,
       "min_height": null,
       "min_width": null,
       "object_fit": null,
       "object_position": null,
       "order": null,
       "overflow": null,
       "padding": null,
       "right": null,
       "top": null,
       "visibility": null,
       "width": null
      }
     },
     "080b021078a7480782df9afbf37bd499": {
      "model_module": "@jupyter-widgets/controls",
      "model_module_version": "2.0.0",
      "model_name": "HBoxModel",
      "state": {
       "_dom_classes": [],
       "_model_module": "@jupyter-widgets/controls",
       "_model_module_version": "2.0.0",
       "_model_name": "HBoxModel",
       "_view_count": null,
       "_view_module": "@jupyter-widgets/controls",
       "_view_module_version": "2.0.0",
       "_view_name": "HBoxView",
       "box_style": "",
       "children": [
        "IPY_MODEL_6d7591b7a9dd4412855d6c5a5b094565",
        "IPY_MODEL_6454640c3b9e40eb82241fb03dd34dca",
        "IPY_MODEL_501a1ce79eea451b8092e3441e4590c0"
       ],
       "layout": "IPY_MODEL_054ff3b61d8a4596b48170c0bb8fb29c",
       "tabbable": null,
       "tooltip": null
      }
     },
     "0b7bc9271a5a46e18cfa5458ea81c1a4": {
      "model_module": "@jupyter-widgets/base",
      "model_module_version": "2.0.0",
      "model_name": "LayoutModel",
      "state": {
       "_model_module": "@jupyter-widgets/base",
       "_model_module_version": "2.0.0",
       "_model_name": "LayoutModel",
       "_view_count": null,
       "_view_module": "@jupyter-widgets/base",
       "_view_module_version": "2.0.0",
       "_view_name": "LayoutView",
       "align_content": null,
       "align_items": null,
       "align_self": null,
       "border_bottom": null,
       "border_left": null,
       "border_right": null,
       "border_top": null,
       "bottom": null,
       "display": null,
       "flex": null,
       "flex_flow": null,
       "grid_area": null,
       "grid_auto_columns": null,
       "grid_auto_flow": null,
       "grid_auto_rows": null,
       "grid_column": null,
       "grid_gap": null,
       "grid_row": null,
       "grid_template_areas": null,
       "grid_template_columns": null,
       "grid_template_rows": null,
       "height": null,
       "justify_content": null,
       "justify_items": null,
       "left": null,
       "margin": null,
       "max_height": null,
       "max_width": null,
       "min_height": null,
       "min_width": null,
       "object_fit": null,
       "object_position": null,
       "order": null,
       "overflow": null,
       "padding": null,
       "right": null,
       "top": null,
       "visibility": null,
       "width": null
      }
     },
     "146d09b61e21451ca819448d366b16b9": {
      "model_module": "@jupyter-widgets/base",
      "model_module_version": "2.0.0",
      "model_name": "LayoutModel",
      "state": {
       "_model_module": "@jupyter-widgets/base",
       "_model_module_version": "2.0.0",
       "_model_name": "LayoutModel",
       "_view_count": null,
       "_view_module": "@jupyter-widgets/base",
       "_view_module_version": "2.0.0",
       "_view_name": "LayoutView",
       "align_content": null,
       "align_items": null,
       "align_self": null,
       "border_bottom": null,
       "border_left": null,
       "border_right": null,
       "border_top": null,
       "bottom": null,
       "display": null,
       "flex": null,
       "flex_flow": null,
       "grid_area": null,
       "grid_auto_columns": null,
       "grid_auto_flow": null,
       "grid_auto_rows": null,
       "grid_column": null,
       "grid_gap": null,
       "grid_row": null,
       "grid_template_areas": null,
       "grid_template_columns": null,
       "grid_template_rows": null,
       "height": null,
       "justify_content": null,
       "justify_items": null,
       "left": null,
       "margin": null,
       "max_height": null,
       "max_width": null,
       "min_height": null,
       "min_width": null,
       "object_fit": null,
       "object_position": null,
       "order": null,
       "overflow": null,
       "padding": null,
       "right": null,
       "top": null,
       "visibility": null,
       "width": null
      }
     },
     "17bbf92a7d5a460b83a9c8c00d91a87a": {
      "model_module": "@jupyter-widgets/controls",
      "model_module_version": "2.0.0",
      "model_name": "HTMLModel",
      "state": {
       "_dom_classes": [],
       "_model_module": "@jupyter-widgets/controls",
       "_model_module_version": "2.0.0",
       "_model_name": "HTMLModel",
       "_view_count": null,
       "_view_module": "@jupyter-widgets/controls",
       "_view_module_version": "2.0.0",
       "_view_name": "HTMLView",
       "description": "",
       "description_allow_html": false,
       "layout": "IPY_MODEL_0b7bc9271a5a46e18cfa5458ea81c1a4",
       "placeholder": "​",
       "style": "IPY_MODEL_233f3735325a4e64b9ff57ee5bb9335d",
       "tabbable": null,
       "tooltip": null,
       "value": "tokenizer.json: 100%"
      }
     },
     "18a30086746c49cd9ebd8fb4f5c817ec": {
      "model_module": "@jupyter-widgets/controls",
      "model_module_version": "2.0.0",
      "model_name": "HTMLStyleModel",
      "state": {
       "_model_module": "@jupyter-widgets/controls",
       "_model_module_version": "2.0.0",
       "_model_name": "HTMLStyleModel",
       "_view_count": null,
       "_view_module": "@jupyter-widgets/base",
       "_view_module_version": "2.0.0",
       "_view_name": "StyleView",
       "background": null,
       "description_width": "",
       "font_size": null,
       "text_color": null
      }
     },
     "1cd33a7fc7a247c7b2b698d43b9c1007": {
      "model_module": "@jupyter-widgets/controls",
      "model_module_version": "2.0.0",
      "model_name": "HTMLStyleModel",
      "state": {
       "_model_module": "@jupyter-widgets/controls",
       "_model_module_version": "2.0.0",
       "_model_name": "HTMLStyleModel",
       "_view_count": null,
       "_view_module": "@jupyter-widgets/base",
       "_view_module_version": "2.0.0",
       "_view_name": "StyleView",
       "background": null,
       "description_width": "",
       "font_size": null,
       "text_color": null
      }
     },
     "233f3735325a4e64b9ff57ee5bb9335d": {
      "model_module": "@jupyter-widgets/controls",
      "model_module_version": "2.0.0",
      "model_name": "HTMLStyleModel",
      "state": {
       "_model_module": "@jupyter-widgets/controls",
       "_model_module_version": "2.0.0",
       "_model_name": "HTMLStyleModel",
       "_view_count": null,
       "_view_module": "@jupyter-widgets/base",
       "_view_module_version": "2.0.0",
       "_view_name": "StyleView",
       "background": null,
       "description_width": "",
       "font_size": null,
       "text_color": null
      }
     },
     "29eba41b5da64c1083b30d31751fbef7": {
      "model_module": "@jupyter-widgets/base",
      "model_module_version": "2.0.0",
      "model_name": "LayoutModel",
      "state": {
       "_model_module": "@jupyter-widgets/base",
       "_model_module_version": "2.0.0",
       "_model_name": "LayoutModel",
       "_view_count": null,
       "_view_module": "@jupyter-widgets/base",
       "_view_module_version": "2.0.0",
       "_view_name": "LayoutView",
       "align_content": null,
       "align_items": null,
       "align_self": null,
       "border_bottom": null,
       "border_left": null,
       "border_right": null,
       "border_top": null,
       "bottom": null,
       "display": null,
       "flex": null,
       "flex_flow": null,
       "grid_area": null,
       "grid_auto_columns": null,
       "grid_auto_flow": null,
       "grid_auto_rows": null,
       "grid_column": null,
       "grid_gap": null,
       "grid_row": null,
       "grid_template_areas": null,
       "grid_template_columns": null,
       "grid_template_rows": null,
       "height": null,
       "justify_content": null,
       "justify_items": null,
       "left": null,
       "margin": null,
       "max_height": null,
       "max_width": null,
       "min_height": null,
       "min_width": null,
       "object_fit": null,
       "object_position": null,
       "order": null,
       "overflow": null,
       "padding": null,
       "right": null,
       "top": null,
       "visibility": null,
       "width": null
      }
     },
     "2e3d36fdb45b4341802c1f1ebed5a962": {
      "model_module": "@jupyter-widgets/controls",
      "model_module_version": "2.0.0",
      "model_name": "HTMLModel",
      "state": {
       "_dom_classes": [],
       "_model_module": "@jupyter-widgets/controls",
       "_model_module_version": "2.0.0",
       "_model_name": "HTMLModel",
       "_view_count": null,
       "_view_module": "@jupyter-widgets/controls",
       "_view_module_version": "2.0.0",
       "_view_name": "HTMLView",
       "description": "",
       "description_allow_html": false,
       "layout": "IPY_MODEL_786bfb1ecb16451e9fcf6563122f6d28",
       "placeholder": "​",
       "style": "IPY_MODEL_e94fb70b938a47258e2e278c2c71db1e",
       "tabbable": null,
       "tooltip": null,
       "value": " 232k/232k [00:00&lt;00:00, 7.87MB/s]"
      }
     },
     "30c74bb2b55843109f067197d107aba3": {
      "model_module": "@jupyter-widgets/base",
      "model_module_version": "2.0.0",
      "model_name": "LayoutModel",
      "state": {
       "_model_module": "@jupyter-widgets/base",
       "_model_module_version": "2.0.0",
       "_model_name": "LayoutModel",
       "_view_count": null,
       "_view_module": "@jupyter-widgets/base",
       "_view_module_version": "2.0.0",
       "_view_name": "LayoutView",
       "align_content": null,
       "align_items": null,
       "align_self": null,
       "border_bottom": null,
       "border_left": null,
       "border_right": null,
       "border_top": null,
       "bottom": null,
       "display": null,
       "flex": null,
       "flex_flow": null,
       "grid_area": null,
       "grid_auto_columns": null,
       "grid_auto_flow": null,
       "grid_auto_rows": null,
       "grid_column": null,
       "grid_gap": null,
       "grid_row": null,
       "grid_template_areas": null,
       "grid_template_columns": null,
       "grid_template_rows": null,
       "height": null,
       "justify_content": null,
       "justify_items": null,
       "left": null,
       "margin": null,
       "max_height": null,
       "max_width": null,
       "min_height": null,
       "min_width": null,
       "object_fit": null,
       "object_position": null,
       "order": null,
       "overflow": null,
       "padding": null,
       "right": null,
       "top": null,
       "visibility": null,
       "width": null
      }
     },
     "36b5ca1d0c07434d88b9fed079e1540a": {
      "model_module": "@jupyter-widgets/controls",
      "model_module_version": "2.0.0",
      "model_name": "HTMLModel",
      "state": {
       "_dom_classes": [],
       "_model_module": "@jupyter-widgets/controls",
       "_model_module_version": "2.0.0",
       "_model_name": "HTMLModel",
       "_view_count": null,
       "_view_module": "@jupyter-widgets/controls",
       "_view_module_version": "2.0.0",
       "_view_name": "HTMLView",
       "description": "",
       "description_allow_html": false,
       "layout": "IPY_MODEL_0425b6ac60a14b18b7d7964b27ea355e",
       "placeholder": "​",
       "style": "IPY_MODEL_ad48b791bfb341879941526963647f42",
       "tabbable": null,
       "tooltip": null,
       "value": " 48.0/48.0 [00:00&lt;00:00, 5.03kB/s]"
      }
     },
     "4eea91ad8f4544dba5579900497a4d18": {
      "model_module": "@jupyter-widgets/base",
      "model_module_version": "2.0.0",
      "model_name": "LayoutModel",
      "state": {
       "_model_module": "@jupyter-widgets/base",
       "_model_module_version": "2.0.0",
       "_model_name": "LayoutModel",
       "_view_count": null,
       "_view_module": "@jupyter-widgets/base",
       "_view_module_version": "2.0.0",
       "_view_name": "LayoutView",
       "align_content": null,
       "align_items": null,
       "align_self": null,
       "border_bottom": null,
       "border_left": null,
       "border_right": null,
       "border_top": null,
       "bottom": null,
       "display": null,
       "flex": null,
       "flex_flow": null,
       "grid_area": null,
       "grid_auto_columns": null,
       "grid_auto_flow": null,
       "grid_auto_rows": null,
       "grid_column": null,
       "grid_gap": null,
       "grid_row": null,
       "grid_template_areas": null,
       "grid_template_columns": null,
       "grid_template_rows": null,
       "height": null,
       "justify_content": null,
       "justify_items": null,
       "left": null,
       "margin": null,
       "max_height": null,
       "max_width": null,
       "min_height": null,
       "min_width": null,
       "object_fit": null,
       "object_position": null,
       "order": null,
       "overflow": null,
       "padding": null,
       "right": null,
       "top": null,
       "visibility": null,
       "width": null
      }
     },
     "501a1ce79eea451b8092e3441e4590c0": {
      "model_module": "@jupyter-widgets/controls",
      "model_module_version": "2.0.0",
      "model_name": "HTMLModel",
      "state": {
       "_dom_classes": [],
       "_model_module": "@jupyter-widgets/controls",
       "_model_module_version": "2.0.0",
       "_model_name": "HTMLModel",
       "_view_count": null,
       "_view_module": "@jupyter-widgets/controls",
       "_view_module_version": "2.0.0",
       "_view_name": "HTMLView",
       "description": "",
       "description_allow_html": false,
       "layout": "IPY_MODEL_7489935a00fa44e2a043f9712b7bee12",
       "placeholder": "​",
       "style": "IPY_MODEL_c9c1660684d14e4db7bd38ba6329272c",
       "tabbable": null,
       "tooltip": null,
       "value": " 4.20k/4.20k [00:00&lt;00:00, 377kB/s]"
      }
     },
     "511406691d784085a393b2257544b758": {
      "model_module": "@jupyter-widgets/base",
      "model_module_version": "2.0.0",
      "model_name": "LayoutModel",
      "state": {
       "_model_module": "@jupyter-widgets/base",
       "_model_module_version": "2.0.0",
       "_model_name": "LayoutModel",
       "_view_count": null,
       "_view_module": "@jupyter-widgets/base",
       "_view_module_version": "2.0.0",
       "_view_name": "LayoutView",
       "align_content": null,
       "align_items": null,
       "align_self": null,
       "border_bottom": null,
       "border_left": null,
       "border_right": null,
       "border_top": null,
       "bottom": null,
       "display": null,
       "flex": null,
       "flex_flow": null,
       "grid_area": null,
       "grid_auto_columns": null,
       "grid_auto_flow": null,
       "grid_auto_rows": null,
       "grid_column": null,
       "grid_gap": null,
       "grid_row": null,
       "grid_template_areas": null,
       "grid_template_columns": null,
       "grid_template_rows": null,
       "height": null,
       "justify_content": null,
       "justify_items": null,
       "left": null,
       "margin": null,
       "max_height": null,
       "max_width": null,
       "min_height": null,
       "min_width": null,
       "object_fit": null,
       "object_position": null,
       "order": null,
       "overflow": null,
       "padding": null,
       "right": null,
       "top": null,
       "visibility": null,
       "width": null
      }
     },
     "5244a06dd56b46f7a802e040c31452f9": {
      "model_module": "@jupyter-widgets/controls",
      "model_module_version": "2.0.0",
      "model_name": "HTMLModel",
      "state": {
       "_dom_classes": [],
       "_model_module": "@jupyter-widgets/controls",
       "_model_module_version": "2.0.0",
       "_model_name": "HTMLModel",
       "_view_count": null,
       "_view_module": "@jupyter-widgets/controls",
       "_view_module_version": "2.0.0",
       "_view_name": "HTMLView",
       "description": "",
       "description_allow_html": false,
       "layout": "IPY_MODEL_f2dd62c6be3d4071b2ea6bd2132678f5",
       "placeholder": "​",
       "style": "IPY_MODEL_76833434629847098b52d704978d2aef",
       "tabbable": null,
       "tooltip": null,
       "value": "tokenizer_config.json: 100%"
      }
     },
     "5a44f3b03e3b47ec9661221a7bd60e32": {
      "model_module": "@jupyter-widgets/controls",
      "model_module_version": "2.0.0",
      "model_name": "ProgressStyleModel",
      "state": {
       "_model_module": "@jupyter-widgets/controls",
       "_model_module_version": "2.0.0",
       "_model_name": "ProgressStyleModel",
       "_view_count": null,
       "_view_module": "@jupyter-widgets/base",
       "_view_module_version": "2.0.0",
       "_view_name": "StyleView",
       "bar_color": null,
       "description_width": ""
      }
     },
     "5b0893f0652641dd97dbc904ff5e6e73": {
      "model_module": "@jupyter-widgets/controls",
      "model_module_version": "2.0.0",
      "model_name": "HTMLStyleModel",
      "state": {
       "_model_module": "@jupyter-widgets/controls",
       "_model_module_version": "2.0.0",
       "_model_name": "HTMLStyleModel",
       "_view_count": null,
       "_view_module": "@jupyter-widgets/base",
       "_view_module_version": "2.0.0",
       "_view_name": "StyleView",
       "background": null,
       "description_width": "",
       "font_size": null,
       "text_color": null
      }
     },
     "5d3c5e7048d74411ae487832d7ca75c7": {
      "model_module": "@jupyter-widgets/controls",
      "model_module_version": "2.0.0",
      "model_name": "FloatProgressModel",
      "state": {
       "_dom_classes": [],
       "_model_module": "@jupyter-widgets/controls",
       "_model_module_version": "2.0.0",
       "_model_name": "FloatProgressModel",
       "_view_count": null,
       "_view_module": "@jupyter-widgets/controls",
       "_view_module_version": "2.0.0",
       "_view_name": "ProgressView",
       "bar_style": "success",
       "description": "",
       "description_allow_html": false,
       "layout": "IPY_MODEL_29eba41b5da64c1083b30d31751fbef7",
       "max": 231508.0,
       "min": 0.0,
       "orientation": "horizontal",
       "style": "IPY_MODEL_b1b1481b77924140a5b8459197de4d2e",
       "tabbable": null,
       "tooltip": null,
       "value": 231508.0
      }
     },
     "60422907a25d4fe88be4f6b84d6081ab": {
      "model_module": "@jupyter-widgets/base",
      "model_module_version": "2.0.0",
      "model_name": "LayoutModel",
      "state": {
       "_model_module": "@jupyter-widgets/base",
       "_model_module_version": "2.0.0",
       "_model_name": "LayoutModel",
       "_view_count": null,
       "_view_module": "@jupyter-widgets/base",
       "_view_module_version": "2.0.0",
       "_view_name": "LayoutView",
       "align_content": null,
       "align_items": null,
       "align_self": null,
       "border_bottom": null,
       "border_left": null,
       "border_right": null,
       "border_top": null,
       "bottom": null,
       "display": null,
       "flex": null,
       "flex_flow": null,
       "grid_area": null,
       "grid_auto_columns": null,
       "grid_auto_flow": null,
       "grid_auto_rows": null,
       "grid_column": null,
       "grid_gap": null,
       "grid_row": null,
       "grid_template_areas": null,
       "grid_template_columns": null,
       "grid_template_rows": null,
       "height": null,
       "justify_content": null,
       "justify_items": null,
       "left": null,
       "margin": null,
       "max_height": null,
       "max_width": null,
       "min_height": null,
       "min_width": null,
       "object_fit": null,
       "object_position": null,
       "order": null,
       "overflow": null,
       "padding": null,
       "right": null,
       "top": null,
       "visibility": null,
       "width": null
      }
     },
     "61e4dbbc386b4e529486e6c4a85f69ec": {
      "model_module": "@jupyter-widgets/controls",
      "model_module_version": "2.0.0",
      "model_name": "HTMLStyleModel",
      "state": {
       "_model_module": "@jupyter-widgets/controls",
       "_model_module_version": "2.0.0",
       "_model_name": "HTMLStyleModel",
       "_view_count": null,
       "_view_module": "@jupyter-widgets/base",
       "_view_module_version": "2.0.0",
       "_view_name": "StyleView",
       "background": null,
       "description_width": "",
       "font_size": null,
       "text_color": null
      }
     },
     "6454640c3b9e40eb82241fb03dd34dca": {
      "model_module": "@jupyter-widgets/controls",
      "model_module_version": "2.0.0",
      "model_name": "FloatProgressModel",
      "state": {
       "_dom_classes": [],
       "_model_module": "@jupyter-widgets/controls",
       "_model_module_version": "2.0.0",
       "_model_name": "FloatProgressModel",
       "_view_count": null,
       "_view_module": "@jupyter-widgets/controls",
       "_view_module_version": "2.0.0",
       "_view_name": "ProgressView",
       "bar_style": "success",
       "description": "",
       "description_allow_html": false,
       "layout": "IPY_MODEL_4eea91ad8f4544dba5579900497a4d18",
       "max": 4203.0,
       "min": 0.0,
       "orientation": "horizontal",
       "style": "IPY_MODEL_875c1835915d47959236797ea165ee65",
       "tabbable": null,
       "tooltip": null,
       "value": 4203.0
      }
     },
     "69d51145473745b3a2f15c071def20a3": {
      "model_module": "@jupyter-widgets/controls",
      "model_module_version": "2.0.0",
      "model_name": "HTMLStyleModel",
      "state": {
       "_model_module": "@jupyter-widgets/controls",
       "_model_module_version": "2.0.0",
       "_model_name": "HTMLStyleModel",
       "_view_count": null,
       "_view_module": "@jupyter-widgets/base",
       "_view_module_version": "2.0.0",
       "_view_name": "StyleView",
       "background": null,
       "description_width": "",
       "font_size": null,
       "text_color": null
      }
     },
     "6d7591b7a9dd4412855d6c5a5b094565": {
      "model_module": "@jupyter-widgets/controls",
      "model_module_version": "2.0.0",
      "model_name": "HTMLModel",
      "state": {
       "_dom_classes": [],
       "_model_module": "@jupyter-widgets/controls",
       "_model_module_version": "2.0.0",
       "_model_name": "HTMLModel",
       "_view_count": null,
       "_view_module": "@jupyter-widgets/controls",
       "_view_module_version": "2.0.0",
       "_view_name": "HTMLView",
       "description": "",
       "description_allow_html": false,
       "layout": "IPY_MODEL_e4d1c71c34cf4e76a34eb543a6d6b0af",
       "placeholder": "​",
       "style": "IPY_MODEL_8092ed0aaf72435a9ed9741c88642e16",
       "tabbable": null,
       "tooltip": null,
       "value": "Downloading builder script: 100%"
      }
     },
     "711cd807cda74129ab42e3db77705d9f": {
      "model_module": "@jupyter-widgets/controls",
      "model_module_version": "2.0.0",
      "model_name": "HBoxModel",
      "state": {
       "_dom_classes": [],
       "_model_module": "@jupyter-widgets/controls",
       "_model_module_version": "2.0.0",
       "_model_name": "HBoxModel",
       "_view_count": null,
       "_view_module": "@jupyter-widgets/controls",
       "_view_module_version": "2.0.0",
       "_view_name": "HBoxView",
       "box_style": "",
       "children": [
        "IPY_MODEL_9635bfda2a1c485ea6fac489447b3467",
        "IPY_MODEL_7202bc087b324d7f8bbd511fbcd6a436",
        "IPY_MODEL_8b04235c44a34b47a1cc1cbe263684fa"
       ],
       "layout": "IPY_MODEL_60422907a25d4fe88be4f6b84d6081ab",
       "tabbable": null,
       "tooltip": null
      }
     },
     "715abd95b5564e2cb065cff1a556d49e": {
      "model_module": "@jupyter-widgets/controls",
      "model_module_version": "2.0.0",
      "model_name": "ProgressStyleModel",
      "state": {
       "_model_module": "@jupyter-widgets/controls",
       "_model_module_version": "2.0.0",
       "_model_name": "ProgressStyleModel",
       "_view_count": null,
       "_view_module": "@jupyter-widgets/base",
       "_view_module_version": "2.0.0",
       "_view_name": "StyleView",
       "bar_color": null,
       "description_width": ""
      }
     },
     "7202bc087b324d7f8bbd511fbcd6a436": {
      "model_module": "@jupyter-widgets/controls",
      "model_module_version": "2.0.0",
      "model_name": "FloatProgressModel",
      "state": {
       "_dom_classes": [],
       "_model_module": "@jupyter-widgets/controls",
       "_model_module_version": "2.0.0",
       "_model_name": "FloatProgressModel",
       "_view_count": null,
       "_view_module": "@jupyter-widgets/controls",
       "_view_module_version": "2.0.0",
       "_view_name": "ProgressView",
       "bar_style": "success",
       "description": "",
       "description_allow_html": false,
       "layout": "IPY_MODEL_b285e4204c22460787a08400ad786ad4",
       "max": 483.0,
       "min": 0.0,
       "orientation": "horizontal",
       "style": "IPY_MODEL_7eef0744fc1f44328962b0807d8321bc",
       "tabbable": null,
       "tooltip": null,
       "value": 483.0
      }
     },
     "7489935a00fa44e2a043f9712b7bee12": {
      "model_module": "@jupyter-widgets/base",
      "model_module_version": "2.0.0",
      "model_name": "LayoutModel",
      "state": {
       "_model_module": "@jupyter-widgets/base",
       "_model_module_version": "2.0.0",
       "_model_name": "LayoutModel",
       "_view_count": null,
       "_view_module": "@jupyter-widgets/base",
       "_view_module_version": "2.0.0",
       "_view_name": "LayoutView",
       "align_content": null,
       "align_items": null,
       "align_self": null,
       "border_bottom": null,
       "border_left": null,
       "border_right": null,
       "border_top": null,
       "bottom": null,
       "display": null,
       "flex": null,
       "flex_flow": null,
       "grid_area": null,
       "grid_auto_columns": null,
       "grid_auto_flow": null,
       "grid_auto_rows": null,
       "grid_column": null,
       "grid_gap": null,
       "grid_row": null,
       "grid_template_areas": null,
       "grid_template_columns": null,
       "grid_template_rows": null,
       "height": null,
       "justify_content": null,
       "justify_items": null,
       "left": null,
       "margin": null,
       "max_height": null,
       "max_width": null,
       "min_height": null,
       "min_width": null,
       "object_fit": null,
       "object_position": null,
       "order": null,
       "overflow": null,
       "padding": null,
       "right": null,
       "top": null,
       "visibility": null,
       "width": null
      }
     },
     "76833434629847098b52d704978d2aef": {
      "model_module": "@jupyter-widgets/controls",
      "model_module_version": "2.0.0",
      "model_name": "HTMLStyleModel",
      "state": {
       "_model_module": "@jupyter-widgets/controls",
       "_model_module_version": "2.0.0",
       "_model_name": "HTMLStyleModel",
       "_view_count": null,
       "_view_module": "@jupyter-widgets/base",
       "_view_module_version": "2.0.0",
       "_view_name": "StyleView",
       "background": null,
       "description_width": "",
       "font_size": null,
       "text_color": null
      }
     },
     "786bfb1ecb16451e9fcf6563122f6d28": {
      "model_module": "@jupyter-widgets/base",
      "model_module_version": "2.0.0",
      "model_name": "LayoutModel",
      "state": {
       "_model_module": "@jupyter-widgets/base",
       "_model_module_version": "2.0.0",
       "_model_name": "LayoutModel",
       "_view_count": null,
       "_view_module": "@jupyter-widgets/base",
       "_view_module_version": "2.0.0",
       "_view_name": "LayoutView",
       "align_content": null,
       "align_items": null,
       "align_self": null,
       "border_bottom": null,
       "border_left": null,
       "border_right": null,
       "border_top": null,
       "bottom": null,
       "display": null,
       "flex": null,
       "flex_flow": null,
       "grid_area": null,
       "grid_auto_columns": null,
       "grid_auto_flow": null,
       "grid_auto_rows": null,
       "grid_column": null,
       "grid_gap": null,
       "grid_row": null,
       "grid_template_areas": null,
       "grid_template_columns": null,
       "grid_template_rows": null,
       "height": null,
       "justify_content": null,
       "justify_items": null,
       "left": null,
       "margin": null,
       "max_height": null,
       "max_width": null,
       "min_height": null,
       "min_width": null,
       "object_fit": null,
       "object_position": null,
       "order": null,
       "overflow": null,
       "padding": null,
       "right": null,
       "top": null,
       "visibility": null,
       "width": null
      }
     },
     "7eef0744fc1f44328962b0807d8321bc": {
      "model_module": "@jupyter-widgets/controls",
      "model_module_version": "2.0.0",
      "model_name": "ProgressStyleModel",
      "state": {
       "_model_module": "@jupyter-widgets/controls",
       "_model_module_version": "2.0.0",
       "_model_name": "ProgressStyleModel",
       "_view_count": null,
       "_view_module": "@jupyter-widgets/base",
       "_view_module_version": "2.0.0",
       "_view_name": "StyleView",
       "bar_color": null,
       "description_width": ""
      }
     },
     "8092ed0aaf72435a9ed9741c88642e16": {
      "model_module": "@jupyter-widgets/controls",
      "model_module_version": "2.0.0",
      "model_name": "HTMLStyleModel",
      "state": {
       "_model_module": "@jupyter-widgets/controls",
       "_model_module_version": "2.0.0",
       "_model_name": "HTMLStyleModel",
       "_view_count": null,
       "_view_module": "@jupyter-widgets/base",
       "_view_module_version": "2.0.0",
       "_view_name": "StyleView",
       "background": null,
       "description_width": "",
       "font_size": null,
       "text_color": null
      }
     },
     "838608db71d54bc8888b15cd9fd573ac": {
      "model_module": "@jupyter-widgets/base",
      "model_module_version": "2.0.0",
      "model_name": "LayoutModel",
      "state": {
       "_model_module": "@jupyter-widgets/base",
       "_model_module_version": "2.0.0",
       "_model_name": "LayoutModel",
       "_view_count": null,
       "_view_module": "@jupyter-widgets/base",
       "_view_module_version": "2.0.0",
       "_view_name": "LayoutView",
       "align_content": null,
       "align_items": null,
       "align_self": null,
       "border_bottom": null,
       "border_left": null,
       "border_right": null,
       "border_top": null,
       "bottom": null,
       "display": null,
       "flex": null,
       "flex_flow": null,
       "grid_area": null,
       "grid_auto_columns": null,
       "grid_auto_flow": null,
       "grid_auto_rows": null,
       "grid_column": null,
       "grid_gap": null,
       "grid_row": null,
       "grid_template_areas": null,
       "grid_template_columns": null,
       "grid_template_rows": null,
       "height": null,
       "justify_content": null,
       "justify_items": null,
       "left": null,
       "margin": null,
       "max_height": null,
       "max_width": null,
       "min_height": null,
       "min_width": null,
       "object_fit": null,
       "object_position": null,
       "order": null,
       "overflow": null,
       "padding": null,
       "right": null,
       "top": null,
       "visibility": null,
       "width": null
      }
     },
     "8741bfb3cd4343babae8df8625a1864c": {
      "model_module": "@jupyter-widgets/controls",
      "model_module_version": "2.0.0",
      "model_name": "HBoxModel",
      "state": {
       "_dom_classes": [],
       "_model_module": "@jupyter-widgets/controls",
       "_model_module_version": "2.0.0",
       "_model_name": "HBoxModel",
       "_view_count": null,
       "_view_module": "@jupyter-widgets/controls",
       "_view_module_version": "2.0.0",
       "_view_name": "HBoxView",
       "box_style": "",
       "children": [
        "IPY_MODEL_bc81e5f9e8a44a8599cf9208ce96876d",
        "IPY_MODEL_f87aa189970f4c24907a3b7aadc2291e",
        "IPY_MODEL_f416fc9a32f44a26a1f920a2dfadf5f5"
       ],
       "layout": "IPY_MODEL_99f66e7a448640c7850e1661c09acd56",
       "tabbable": null,
       "tooltip": null
      }
     },
     "875c1835915d47959236797ea165ee65": {
      "model_module": "@jupyter-widgets/controls",
      "model_module_version": "2.0.0",
      "model_name": "ProgressStyleModel",
      "state": {
       "_model_module": "@jupyter-widgets/controls",
       "_model_module_version": "2.0.0",
       "_model_name": "ProgressStyleModel",
       "_view_count": null,
       "_view_module": "@jupyter-widgets/base",
       "_view_module_version": "2.0.0",
       "_view_name": "StyleView",
       "bar_color": null,
       "description_width": ""
      }
     },
     "8b04235c44a34b47a1cc1cbe263684fa": {
      "model_module": "@jupyter-widgets/controls",
      "model_module_version": "2.0.0",
      "model_name": "HTMLModel",
      "state": {
       "_dom_classes": [],
       "_model_module": "@jupyter-widgets/controls",
       "_model_module_version": "2.0.0",
       "_model_name": "HTMLModel",
       "_view_count": null,
       "_view_module": "@jupyter-widgets/controls",
       "_view_module_version": "2.0.0",
       "_view_name": "HTMLView",
       "description": "",
       "description_allow_html": false,
       "layout": "IPY_MODEL_aa666cafc3c04905891b098884578175",
       "placeholder": "​",
       "style": "IPY_MODEL_61e4dbbc386b4e529486e6c4a85f69ec",
       "tabbable": null,
       "tooltip": null,
       "value": " 483/483 [00:00&lt;00:00, 49.6kB/s]"
      }
     },
     "9635bfda2a1c485ea6fac489447b3467": {
      "model_module": "@jupyter-widgets/controls",
      "model_module_version": "2.0.0",
      "model_name": "HTMLModel",
      "state": {
       "_dom_classes": [],
       "_model_module": "@jupyter-widgets/controls",
       "_model_module_version": "2.0.0",
       "_model_name": "HTMLModel",
       "_view_count": null,
       "_view_module": "@jupyter-widgets/controls",
       "_view_module_version": "2.0.0",
       "_view_name": "HTMLView",
       "description": "",
       "description_allow_html": false,
       "layout": "IPY_MODEL_30c74bb2b55843109f067197d107aba3",
       "placeholder": "​",
       "style": "IPY_MODEL_1cd33a7fc7a247c7b2b698d43b9c1007",
       "tabbable": null,
       "tooltip": null,
       "value": "config.json: 100%"
      }
     },
     "975083be16024e05ad3baaeb23f3cabb": {
      "model_module": "@jupyter-widgets/controls",
      "model_module_version": "2.0.0",
      "model_name": "FloatProgressModel",
      "state": {
       "_dom_classes": [],
       "_model_module": "@jupyter-widgets/controls",
       "_model_module_version": "2.0.0",
       "_model_name": "FloatProgressModel",
       "_view_count": null,
       "_view_module": "@jupyter-widgets/controls",
       "_view_module_version": "2.0.0",
       "_view_name": "ProgressView",
       "bar_style": "success",
       "description": "",
       "description_allow_html": false,
       "layout": "IPY_MODEL_ca07c4a43a0b483982a56416d8f98051",
       "max": 48.0,
       "min": 0.0,
       "orientation": "horizontal",
       "style": "IPY_MODEL_715abd95b5564e2cb065cff1a556d49e",
       "tabbable": null,
       "tooltip": null,
       "value": 48.0
      }
     },
     "99f66e7a448640c7850e1661c09acd56": {
      "model_module": "@jupyter-widgets/base",
      "model_module_version": "2.0.0",
      "model_name": "LayoutModel",
      "state": {
       "_model_module": "@jupyter-widgets/base",
       "_model_module_version": "2.0.0",
       "_model_name": "LayoutModel",
       "_view_count": null,
       "_view_module": "@jupyter-widgets/base",
       "_view_module_version": "2.0.0",
       "_view_name": "LayoutView",
       "align_content": null,
       "align_items": null,
       "align_self": null,
       "border_bottom": null,
       "border_left": null,
       "border_right": null,
       "border_top": null,
       "bottom": null,
       "display": null,
       "flex": null,
       "flex_flow": null,
       "grid_area": null,
       "grid_auto_columns": null,
       "grid_auto_flow": null,
       "grid_auto_rows": null,
       "grid_column": null,
       "grid_gap": null,
       "grid_row": null,
       "grid_template_areas": null,
       "grid_template_columns": null,
       "grid_template_rows": null,
       "height": null,
       "justify_content": null,
       "justify_items": null,
       "left": null,
       "margin": null,
       "max_height": null,
       "max_width": null,
       "min_height": null,
       "min_width": null,
       "object_fit": null,
       "object_position": null,
       "order": null,
       "overflow": null,
       "padding": null,
       "right": null,
       "top": null,
       "visibility": null,
       "width": null
      }
     },
     "a0a76bc00e2443c68023dcff3b1e9aab": {
      "model_module": "@jupyter-widgets/controls",
      "model_module_version": "2.0.0",
      "model_name": "HBoxModel",
      "state": {
       "_dom_classes": [],
       "_model_module": "@jupyter-widgets/controls",
       "_model_module_version": "2.0.0",
       "_model_name": "HBoxModel",
       "_view_count": null,
       "_view_module": "@jupyter-widgets/controls",
       "_view_module_version": "2.0.0",
       "_view_name": "HBoxView",
       "box_style": "",
       "children": [
        "IPY_MODEL_17bbf92a7d5a460b83a9c8c00d91a87a",
        "IPY_MODEL_e96d6509c3104644a9425856f31518a2",
        "IPY_MODEL_0340feb4ca264ea1b61b2949a2b19a67"
       ],
       "layout": "IPY_MODEL_afd87e8642dd4529a4368b2228ea6caf",
       "tabbable": null,
       "tooltip": null
      }
     },
     "a3b3ca6eddf9436799b3cbb1d18d7588": {
      "model_module": "@jupyter-widgets/controls",
      "model_module_version": "2.0.0",
      "model_name": "ProgressStyleModel",
      "state": {
       "_model_module": "@jupyter-widgets/controls",
       "_model_module_version": "2.0.0",
       "_model_name": "ProgressStyleModel",
       "_view_count": null,
       "_view_module": "@jupyter-widgets/base",
       "_view_module_version": "2.0.0",
       "_view_name": "StyleView",
       "bar_color": null,
       "description_width": ""
      }
     },
     "aa666cafc3c04905891b098884578175": {
      "model_module": "@jupyter-widgets/base",
      "model_module_version": "2.0.0",
      "model_name": "LayoutModel",
      "state": {
       "_model_module": "@jupyter-widgets/base",
       "_model_module_version": "2.0.0",
       "_model_name": "LayoutModel",
       "_view_count": null,
       "_view_module": "@jupyter-widgets/base",
       "_view_module_version": "2.0.0",
       "_view_name": "LayoutView",
       "align_content": null,
       "align_items": null,
       "align_self": null,
       "border_bottom": null,
       "border_left": null,
       "border_right": null,
       "border_top": null,
       "bottom": null,
       "display": null,
       "flex": null,
       "flex_flow": null,
       "grid_area": null,
       "grid_auto_columns": null,
       "grid_auto_flow": null,
       "grid_auto_rows": null,
       "grid_column": null,
       "grid_gap": null,
       "grid_row": null,
       "grid_template_areas": null,
       "grid_template_columns": null,
       "grid_template_rows": null,
       "height": null,
       "justify_content": null,
       "justify_items": null,
       "left": null,
       "margin": null,
       "max_height": null,
       "max_width": null,
       "min_height": null,
       "min_width": null,
       "object_fit": null,
       "object_position": null,
       "order": null,
       "overflow": null,
       "padding": null,
       "right": null,
       "top": null,
       "visibility": null,
       "width": null
      }
     },
     "ab1305e0061e4de1bdc4e2819c028a87": {
      "model_module": "@jupyter-widgets/base",
      "model_module_version": "2.0.0",
      "model_name": "LayoutModel",
      "state": {
       "_model_module": "@jupyter-widgets/base",
       "_model_module_version": "2.0.0",
       "_model_name": "LayoutModel",
       "_view_count": null,
       "_view_module": "@jupyter-widgets/base",
       "_view_module_version": "2.0.0",
       "_view_name": "LayoutView",
       "align_content": null,
       "align_items": null,
       "align_self": null,
       "border_bottom": null,
       "border_left": null,
       "border_right": null,
       "border_top": null,
       "bottom": null,
       "display": null,
       "flex": null,
       "flex_flow": null,
       "grid_area": null,
       "grid_auto_columns": null,
       "grid_auto_flow": null,
       "grid_auto_rows": null,
       "grid_column": null,
       "grid_gap": null,
       "grid_row": null,
       "grid_template_areas": null,
       "grid_template_columns": null,
       "grid_template_rows": null,
       "height": null,
       "justify_content": null,
       "justify_items": null,
       "left": null,
       "margin": null,
       "max_height": null,
       "max_width": null,
       "min_height": null,
       "min_width": null,
       "object_fit": null,
       "object_position": null,
       "order": null,
       "overflow": null,
       "padding": null,
       "right": null,
       "top": null,
       "visibility": null,
       "width": null
      }
     },
     "ab8facfee4c64c8896767401d9ed0090": {
      "model_module": "@jupyter-widgets/base",
      "model_module_version": "2.0.0",
      "model_name": "LayoutModel",
      "state": {
       "_model_module": "@jupyter-widgets/base",
       "_model_module_version": "2.0.0",
       "_model_name": "LayoutModel",
       "_view_count": null,
       "_view_module": "@jupyter-widgets/base",
       "_view_module_version": "2.0.0",
       "_view_name": "LayoutView",
       "align_content": null,
       "align_items": null,
       "align_self": null,
       "border_bottom": null,
       "border_left": null,
       "border_right": null,
       "border_top": null,
       "bottom": null,
       "display": null,
       "flex": null,
       "flex_flow": null,
       "grid_area": null,
       "grid_auto_columns": null,
       "grid_auto_flow": null,
       "grid_auto_rows": null,
       "grid_column": null,
       "grid_gap": null,
       "grid_row": null,
       "grid_template_areas": null,
       "grid_template_columns": null,
       "grid_template_rows": null,
       "height": null,
       "justify_content": null,
       "justify_items": null,
       "left": null,
       "margin": null,
       "max_height": null,
       "max_width": null,
       "min_height": null,
       "min_width": null,
       "object_fit": null,
       "object_position": null,
       "order": null,
       "overflow": null,
       "padding": null,
       "right": null,
       "top": null,
       "visibility": null,
       "width": null
      }
     },
     "ad48b791bfb341879941526963647f42": {
      "model_module": "@jupyter-widgets/controls",
      "model_module_version": "2.0.0",
      "model_name": "HTMLStyleModel",
      "state": {
       "_model_module": "@jupyter-widgets/controls",
       "_model_module_version": "2.0.0",
       "_model_name": "HTMLStyleModel",
       "_view_count": null,
       "_view_module": "@jupyter-widgets/base",
       "_view_module_version": "2.0.0",
       "_view_name": "StyleView",
       "background": null,
       "description_width": "",
       "font_size": null,
       "text_color": null
      }
     },
     "afd87e8642dd4529a4368b2228ea6caf": {
      "model_module": "@jupyter-widgets/base",
      "model_module_version": "2.0.0",
      "model_name": "LayoutModel",
      "state": {
       "_model_module": "@jupyter-widgets/base",
       "_model_module_version": "2.0.0",
       "_model_name": "LayoutModel",
       "_view_count": null,
       "_view_module": "@jupyter-widgets/base",
       "_view_module_version": "2.0.0",
       "_view_name": "LayoutView",
       "align_content": null,
       "align_items": null,
       "align_self": null,
       "border_bottom": null,
       "border_left": null,
       "border_right": null,
       "border_top": null,
       "bottom": null,
       "display": null,
       "flex": null,
       "flex_flow": null,
       "grid_area": null,
       "grid_auto_columns": null,
       "grid_auto_flow": null,
       "grid_auto_rows": null,
       "grid_column": null,
       "grid_gap": null,
       "grid_row": null,
       "grid_template_areas": null,
       "grid_template_columns": null,
       "grid_template_rows": null,
       "height": null,
       "justify_content": null,
       "justify_items": null,
       "left": null,
       "margin": null,
       "max_height": null,
       "max_width": null,
       "min_height": null,
       "min_width": null,
       "object_fit": null,
       "object_position": null,
       "order": null,
       "overflow": null,
       "padding": null,
       "right": null,
       "top": null,
       "visibility": null,
       "width": null
      }
     },
     "b1b1481b77924140a5b8459197de4d2e": {
      "model_module": "@jupyter-widgets/controls",
      "model_module_version": "2.0.0",
      "model_name": "ProgressStyleModel",
      "state": {
       "_model_module": "@jupyter-widgets/controls",
       "_model_module_version": "2.0.0",
       "_model_name": "ProgressStyleModel",
       "_view_count": null,
       "_view_module": "@jupyter-widgets/base",
       "_view_module_version": "2.0.0",
       "_view_name": "StyleView",
       "bar_color": null,
       "description_width": ""
      }
     },
     "b285e4204c22460787a08400ad786ad4": {
      "model_module": "@jupyter-widgets/base",
      "model_module_version": "2.0.0",
      "model_name": "LayoutModel",
      "state": {
       "_model_module": "@jupyter-widgets/base",
       "_model_module_version": "2.0.0",
       "_model_name": "LayoutModel",
       "_view_count": null,
       "_view_module": "@jupyter-widgets/base",
       "_view_module_version": "2.0.0",
       "_view_name": "LayoutView",
       "align_content": null,
       "align_items": null,
       "align_self": null,
       "border_bottom": null,
       "border_left": null,
       "border_right": null,
       "border_top": null,
       "bottom": null,
       "display": null,
       "flex": null,
       "flex_flow": null,
       "grid_area": null,
       "grid_auto_columns": null,
       "grid_auto_flow": null,
       "grid_auto_rows": null,
       "grid_column": null,
       "grid_gap": null,
       "grid_row": null,
       "grid_template_areas": null,
       "grid_template_columns": null,
       "grid_template_rows": null,
       "height": null,
       "justify_content": null,
       "justify_items": null,
       "left": null,
       "margin": null,
       "max_height": null,
       "max_width": null,
       "min_height": null,
       "min_width": null,
       "object_fit": null,
       "object_position": null,
       "order": null,
       "overflow": null,
       "padding": null,
       "right": null,
       "top": null,
       "visibility": null,
       "width": null
      }
     },
     "bc81e5f9e8a44a8599cf9208ce96876d": {
      "model_module": "@jupyter-widgets/controls",
      "model_module_version": "2.0.0",
      "model_name": "HTMLModel",
      "state": {
       "_dom_classes": [],
       "_model_module": "@jupyter-widgets/controls",
       "_model_module_version": "2.0.0",
       "_model_name": "HTMLModel",
       "_view_count": null,
       "_view_module": "@jupyter-widgets/controls",
       "_view_module_version": "2.0.0",
       "_view_name": "HTMLView",
       "description": "",
       "description_allow_html": false,
       "layout": "IPY_MODEL_511406691d784085a393b2257544b758",
       "placeholder": "​",
       "style": "IPY_MODEL_69d51145473745b3a2f15c071def20a3",
       "tabbable": null,
       "tooltip": null,
       "value": "model.safetensors: 100%"
      }
     },
     "c9c1660684d14e4db7bd38ba6329272c": {
      "model_module": "@jupyter-widgets/controls",
      "model_module_version": "2.0.0",
      "model_name": "HTMLStyleModel",
      "state": {
       "_model_module": "@jupyter-widgets/controls",
       "_model_module_version": "2.0.0",
       "_model_name": "HTMLStyleModel",
       "_view_count": null,
       "_view_module": "@jupyter-widgets/base",
       "_view_module_version": "2.0.0",
       "_view_name": "StyleView",
       "background": null,
       "description_width": "",
       "font_size": null,
       "text_color": null
      }
     },
     "ca07c4a43a0b483982a56416d8f98051": {
      "model_module": "@jupyter-widgets/base",
      "model_module_version": "2.0.0",
      "model_name": "LayoutModel",
      "state": {
       "_model_module": "@jupyter-widgets/base",
       "_model_module_version": "2.0.0",
       "_model_name": "LayoutModel",
       "_view_count": null,
       "_view_module": "@jupyter-widgets/base",
       "_view_module_version": "2.0.0",
       "_view_name": "LayoutView",
       "align_content": null,
       "align_items": null,
       "align_self": null,
       "border_bottom": null,
       "border_left": null,
       "border_right": null,
       "border_top": null,
       "bottom": null,
       "display": null,
       "flex": null,
       "flex_flow": null,
       "grid_area": null,
       "grid_auto_columns": null,
       "grid_auto_flow": null,
       "grid_auto_rows": null,
       "grid_column": null,
       "grid_gap": null,
       "grid_row": null,
       "grid_template_areas": null,
       "grid_template_columns": null,
       "grid_template_rows": null,
       "height": null,
       "justify_content": null,
       "justify_items": null,
       "left": null,
       "margin": null,
       "max_height": null,
       "max_width": null,
       "min_height": null,
       "min_width": null,
       "object_fit": null,
       "object_position": null,
       "order": null,
       "overflow": null,
       "padding": null,
       "right": null,
       "top": null,
       "visibility": null,
       "width": null
      }
     },
     "ca0d9e6f1b60466eabfe198e728074af": {
      "model_module": "@jupyter-widgets/controls",
      "model_module_version": "2.0.0",
      "model_name": "HBoxModel",
      "state": {
       "_dom_classes": [],
       "_model_module": "@jupyter-widgets/controls",
       "_model_module_version": "2.0.0",
       "_model_name": "HBoxModel",
       "_view_count": null,
       "_view_module": "@jupyter-widgets/controls",
       "_view_module_version": "2.0.0",
       "_view_name": "HBoxView",
       "box_style": "",
       "children": [
        "IPY_MODEL_e27eb641c3bf4309830804dad18e9e1f",
        "IPY_MODEL_5d3c5e7048d74411ae487832d7ca75c7",
        "IPY_MODEL_2e3d36fdb45b4341802c1f1ebed5a962"
       ],
       "layout": "IPY_MODEL_838608db71d54bc8888b15cd9fd573ac",
       "tabbable": null,
       "tooltip": null
      }
     },
     "cfd6f04b9da44421af9aad10a72de19a": {
      "model_module": "@jupyter-widgets/controls",
      "model_module_version": "2.0.0",
      "model_name": "HBoxModel",
      "state": {
       "_dom_classes": [],
       "_model_module": "@jupyter-widgets/controls",
       "_model_module_version": "2.0.0",
       "_model_name": "HBoxModel",
       "_view_count": null,
       "_view_module": "@jupyter-widgets/controls",
       "_view_module_version": "2.0.0",
       "_view_name": "HBoxView",
       "box_style": "",
       "children": [
        "IPY_MODEL_5244a06dd56b46f7a802e040c31452f9",
        "IPY_MODEL_975083be16024e05ad3baaeb23f3cabb",
        "IPY_MODEL_36b5ca1d0c07434d88b9fed079e1540a"
       ],
       "layout": "IPY_MODEL_fa8c6d63e8f940f0bb7a9432366370a4",
       "tabbable": null,
       "tooltip": null
      }
     },
     "d6c264c99e39446aa4a6b68bf0e37aac": {
      "model_module": "@jupyter-widgets/controls",
      "model_module_version": "2.0.0",
      "model_name": "HTMLStyleModel",
      "state": {
       "_model_module": "@jupyter-widgets/controls",
       "_model_module_version": "2.0.0",
       "_model_name": "HTMLStyleModel",
       "_view_count": null,
       "_view_module": "@jupyter-widgets/base",
       "_view_module_version": "2.0.0",
       "_view_name": "StyleView",
       "background": null,
       "description_width": "",
       "font_size": null,
       "text_color": null
      }
     },
     "e27eb641c3bf4309830804dad18e9e1f": {
      "model_module": "@jupyter-widgets/controls",
      "model_module_version": "2.0.0",
      "model_name": "HTMLModel",
      "state": {
       "_dom_classes": [],
       "_model_module": "@jupyter-widgets/controls",
       "_model_module_version": "2.0.0",
       "_model_name": "HTMLModel",
       "_view_count": null,
       "_view_module": "@jupyter-widgets/controls",
       "_view_module_version": "2.0.0",
       "_view_name": "HTMLView",
       "description": "",
       "description_allow_html": false,
       "layout": "IPY_MODEL_06890a25da314940a93c875da734d94b",
       "placeholder": "​",
       "style": "IPY_MODEL_d6c264c99e39446aa4a6b68bf0e37aac",
       "tabbable": null,
       "tooltip": null,
       "value": "vocab.txt: 100%"
      }
     },
     "e4d1c71c34cf4e76a34eb543a6d6b0af": {
      "model_module": "@jupyter-widgets/base",
      "model_module_version": "2.0.0",
      "model_name": "LayoutModel",
      "state": {
       "_model_module": "@jupyter-widgets/base",
       "_model_module_version": "2.0.0",
       "_model_name": "LayoutModel",
       "_view_count": null,
       "_view_module": "@jupyter-widgets/base",
       "_view_module_version": "2.0.0",
       "_view_name": "LayoutView",
       "align_content": null,
       "align_items": null,
       "align_self": null,
       "border_bottom": null,
       "border_left": null,
       "border_right": null,
       "border_top": null,
       "bottom": null,
       "display": null,
       "flex": null,
       "flex_flow": null,
       "grid_area": null,
       "grid_auto_columns": null,
       "grid_auto_flow": null,
       "grid_auto_rows": null,
       "grid_column": null,
       "grid_gap": null,
       "grid_row": null,
       "grid_template_areas": null,
       "grid_template_columns": null,
       "grid_template_rows": null,
       "height": null,
       "justify_content": null,
       "justify_items": null,
       "left": null,
       "margin": null,
       "max_height": null,
       "max_width": null,
       "min_height": null,
       "min_width": null,
       "object_fit": null,
       "object_position": null,
       "order": null,
       "overflow": null,
       "padding": null,
       "right": null,
       "top": null,
       "visibility": null,
       "width": null
      }
     },
     "e94fb70b938a47258e2e278c2c71db1e": {
      "model_module": "@jupyter-widgets/controls",
      "model_module_version": "2.0.0",
      "model_name": "HTMLStyleModel",
      "state": {
       "_model_module": "@jupyter-widgets/controls",
       "_model_module_version": "2.0.0",
       "_model_name": "HTMLStyleModel",
       "_view_count": null,
       "_view_module": "@jupyter-widgets/base",
       "_view_module_version": "2.0.0",
       "_view_name": "StyleView",
       "background": null,
       "description_width": "",
       "font_size": null,
       "text_color": null
      }
     },
     "e96d6509c3104644a9425856f31518a2": {
      "model_module": "@jupyter-widgets/controls",
      "model_module_version": "2.0.0",
      "model_name": "FloatProgressModel",
      "state": {
       "_dom_classes": [],
       "_model_module": "@jupyter-widgets/controls",
       "_model_module_version": "2.0.0",
       "_model_name": "FloatProgressModel",
       "_view_count": null,
       "_view_module": "@jupyter-widgets/controls",
       "_view_module_version": "2.0.0",
       "_view_name": "ProgressView",
       "bar_style": "success",
       "description": "",
       "description_allow_html": false,
       "layout": "IPY_MODEL_146d09b61e21451ca819448d366b16b9",
       "max": 466062.0,
       "min": 0.0,
       "orientation": "horizontal",
       "style": "IPY_MODEL_a3b3ca6eddf9436799b3cbb1d18d7588",
       "tabbable": null,
       "tooltip": null,
       "value": 466062.0
      }
     },
     "f2dd62c6be3d4071b2ea6bd2132678f5": {
      "model_module": "@jupyter-widgets/base",
      "model_module_version": "2.0.0",
      "model_name": "LayoutModel",
      "state": {
       "_model_module": "@jupyter-widgets/base",
       "_model_module_version": "2.0.0",
       "_model_name": "LayoutModel",
       "_view_count": null,
       "_view_module": "@jupyter-widgets/base",
       "_view_module_version": "2.0.0",
       "_view_name": "LayoutView",
       "align_content": null,
       "align_items": null,
       "align_self": null,
       "border_bottom": null,
       "border_left": null,
       "border_right": null,
       "border_top": null,
       "bottom": null,
       "display": null,
       "flex": null,
       "flex_flow": null,
       "grid_area": null,
       "grid_auto_columns": null,
       "grid_auto_flow": null,
       "grid_auto_rows": null,
       "grid_column": null,
       "grid_gap": null,
       "grid_row": null,
       "grid_template_areas": null,
       "grid_template_columns": null,
       "grid_template_rows": null,
       "height": null,
       "justify_content": null,
       "justify_items": null,
       "left": null,
       "margin": null,
       "max_height": null,
       "max_width": null,
       "min_height": null,
       "min_width": null,
       "object_fit": null,
       "object_position": null,
       "order": null,
       "overflow": null,
       "padding": null,
       "right": null,
       "top": null,
       "visibility": null,
       "width": null
      }
     },
     "f416fc9a32f44a26a1f920a2dfadf5f5": {
      "model_module": "@jupyter-widgets/controls",
      "model_module_version": "2.0.0",
      "model_name": "HTMLModel",
      "state": {
       "_dom_classes": [],
       "_model_module": "@jupyter-widgets/controls",
       "_model_module_version": "2.0.0",
       "_model_name": "HTMLModel",
       "_view_count": null,
       "_view_module": "@jupyter-widgets/controls",
       "_view_module_version": "2.0.0",
       "_view_name": "HTMLView",
       "description": "",
       "description_allow_html": false,
       "layout": "IPY_MODEL_ab1305e0061e4de1bdc4e2819c028a87",
       "placeholder": "​",
       "style": "IPY_MODEL_18a30086746c49cd9ebd8fb4f5c817ec",
       "tabbable": null,
       "tooltip": null,
       "value": " 268M/268M [00:01&lt;00:00, 263MB/s]"
      }
     },
     "f626378bbff347b3842dfa907dcb9fed": {
      "model_module": "@jupyter-widgets/base",
      "model_module_version": "2.0.0",
      "model_name": "LayoutModel",
      "state": {
       "_model_module": "@jupyter-widgets/base",
       "_model_module_version": "2.0.0",
       "_model_name": "LayoutModel",
       "_view_count": null,
       "_view_module": "@jupyter-widgets/base",
       "_view_module_version": "2.0.0",
       "_view_name": "LayoutView",
       "align_content": null,
       "align_items": null,
       "align_self": null,
       "border_bottom": null,
       "border_left": null,
       "border_right": null,
       "border_top": null,
       "bottom": null,
       "display": null,
       "flex": null,
       "flex_flow": null,
       "grid_area": null,
       "grid_auto_columns": null,
       "grid_auto_flow": null,
       "grid_auto_rows": null,
       "grid_column": null,
       "grid_gap": null,
       "grid_row": null,
       "grid_template_areas": null,
       "grid_template_columns": null,
       "grid_template_rows": null,
       "height": null,
       "justify_content": null,
       "justify_items": null,
       "left": null,
       "margin": null,
       "max_height": null,
       "max_width": null,
       "min_height": null,
       "min_width": null,
       "object_fit": null,
       "object_position": null,
       "order": null,
       "overflow": null,
       "padding": null,
       "right": null,
       "top": null,
       "visibility": null,
       "width": null
      }
     },
     "f87aa189970f4c24907a3b7aadc2291e": {
      "model_module": "@jupyter-widgets/controls",
      "model_module_version": "2.0.0",
      "model_name": "FloatProgressModel",
      "state": {
       "_dom_classes": [],
       "_model_module": "@jupyter-widgets/controls",
       "_model_module_version": "2.0.0",
       "_model_name": "FloatProgressModel",
       "_view_count": null,
       "_view_module": "@jupyter-widgets/controls",
       "_view_module_version": "2.0.0",
       "_view_name": "ProgressView",
       "bar_style": "success",
       "description": "",
       "description_allow_html": false,
       "layout": "IPY_MODEL_f626378bbff347b3842dfa907dcb9fed",
       "max": 267954768.0,
       "min": 0.0,
       "orientation": "horizontal",
       "style": "IPY_MODEL_5a44f3b03e3b47ec9661221a7bd60e32",
       "tabbable": null,
       "tooltip": null,
       "value": 267954768.0
      }
     },
     "fa8c6d63e8f940f0bb7a9432366370a4": {
      "model_module": "@jupyter-widgets/base",
      "model_module_version": "2.0.0",
      "model_name": "LayoutModel",
      "state": {
       "_model_module": "@jupyter-widgets/base",
       "_model_module_version": "2.0.0",
       "_model_name": "LayoutModel",
       "_view_count": null,
       "_view_module": "@jupyter-widgets/base",
       "_view_module_version": "2.0.0",
       "_view_name": "LayoutView",
       "align_content": null,
       "align_items": null,
       "align_self": null,
       "border_bottom": null,
       "border_left": null,
       "border_right": null,
       "border_top": null,
       "bottom": null,
       "display": null,
       "flex": null,
       "flex_flow": null,
       "grid_area": null,
       "grid_auto_columns": null,
       "grid_auto_flow": null,
       "grid_auto_rows": null,
       "grid_column": null,
       "grid_gap": null,
       "grid_row": null,
       "grid_template_areas": null,
       "grid_template_columns": null,
       "grid_template_rows": null,
       "height": null,
       "justify_content": null,
       "justify_items": null,
       "left": null,
       "margin": null,
       "max_height": null,
       "max_width": null,
       "min_height": null,
       "min_width": null,
       "object_fit": null,
       "object_position": null,
       "order": null,
       "overflow": null,
       "padding": null,
       "right": null,
       "top": null,
       "visibility": null,
       "width": null
      }
     }
    },
    "version_major": 2,
    "version_minor": 0
   }
  }
 },
 "nbformat": 4,
 "nbformat_minor": 5
}
